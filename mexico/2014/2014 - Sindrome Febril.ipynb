{
 "cells": [
  {
   "cell_type": "markdown",
   "metadata": {},
   "source": [
    "### Import libraries"
   ]
  },
  {
   "cell_type": "code",
   "execution_count": 2,
   "metadata": {},
   "outputs": [],
   "source": [
    "import pandas as pd\n",
    "\n",
    "import camelot\n",
    "\n",
    "import pdfplumber\n",
    "\n",
    "import os\n",
    "\n",
    "import re\n",
    "\n",
    "import numpy as np"
   ]
  },
  {
   "cell_type": "markdown",
   "metadata": {},
   "source": [
    "### Define Function to scroll through each file in the folder"
   ]
  },
  {
   "cell_type": "code",
   "execution_count": 3,
   "metadata": {},
   "outputs": [],
   "source": [
    "def process_all_pdfs_in_folder(source_path, sink_path, desired_disease):\n",
    "    year_df = []\n",
    "    for filename in os.listdir(source_path):\n",
    "        if filename.lower().endswith('.pdf'):\n",
    "            pdf_path = os.path.join(source_path, filename)\n",
    "            print(f\"Processando o arquivo: {pdf_path}\")\n",
    "            week_df = extract_and_process_tables(pdf_path, desired_disease, filename)\n",
    "            year_df.append(week_df)\n",
    "            \n",
    "    if year_df:\n",
    "        concatenated_df = pd.concat(year_df, ignore_index=True)\n",
    "\n",
    "        pdf_filename = source_path.rsplit('/', 1)[-1]\n",
    "        print(\"Salvando\")\n",
    "        csv_filename = os.path.splitext(pdf_filename)[0] + desired_disease + '.csv'\n",
    "        output_path = os.path.join(sink_path, csv_filename)\n",
    "        concatenated_df.to_csv(output_path, index=False, encoding='utf-8-sig')\n",
    "        print(f\"Arquivo salvo: {csv_filename}\")\n",
    "            "
   ]
  },
  {
   "cell_type": "markdown",
   "metadata": {},
   "source": [
    "### Define function to scroll through each page/table in selected file"
   ]
  },
  {
   "cell_type": "code",
   "execution_count": 39,
   "metadata": {},
   "outputs": [],
   "source": [
    "def extract_and_process_tables(pdf_path, desired_disease, filename):\n",
    "    all_dfs = []\n",
    "    pdf = pdfplumber.open(pdf_path)\n",
    "\n",
    "    for page_num in range(len(pdf.pages)):\n",
    "        try:\n",
    "            tables = camelot.read_pdf(pdf_path, pages=str(page_num + 1), flavor='stream')\n",
    "            \n",
    "            if not tables:\n",
    "                \n",
    "                print(f\"Nenhuma tabela encontrada na pagina {page_num}\")\n",
    "\n",
    "            else:\n",
    "                df = tables[0].df\n",
    "                page = pdf.pages[page_num]\n",
    "                table = page.extract_table()\n",
    "                df_header = pd.DataFrame(table)\n",
    "                                \n",
    "                if (not df_header.empty \n",
    "                    and df_header.shape[0] > 1 \n",
    "                    and df_header.shape[1] > 1 \n",
    "                    and df_header.iloc[0, 1] is not None \n",
    "                    and isinstance(df_header.iloc[0, 1], str)\n",
    "                    and desired_disease in df_header.iloc[0, 1]):  \n",
    "                    \n",
    "                    first = None\n",
    "                    \n",
    "\n",
    "                    for n in range(4, 10):\n",
    "                        if df.iloc[n, 0]:\n",
    "                            first = n\n",
    "                            break\n",
    "                            \n",
    "                    df_all = process_table(df, df_header, filename, first)\n",
    "                    \n",
    "                        \n",
    "                    if not df_all.empty:\n",
    "                        all_dfs.append(df_all)\n",
    "\n",
    "                        print(f\"Processando a página {page_num + 1} com a tabela desejada.\")\n",
    "\n",
    "        except Exception as e:\n",
    "            print(f\"Erro ao processar a página {page_num + 1}: {e}\")\n",
    "\n",
    "    pdf.close()\n",
    "\n",
    "    if all_dfs:\n",
    "        final_df = pd.concat(all_dfs, ignore_index=True)\n",
    "    else:\n",
    "        final_df = pd.DataFrame()\n",
    "\n",
    "\n",
    "    return final_df"
   ]
  },
  {
   "cell_type": "markdown",
   "metadata": {},
   "source": [
    "### Define function to transform selected table in readable data"
   ]
  },
  {
   "cell_type": "code",
   "execution_count": 35,
   "metadata": {},
   "outputs": [],
   "source": [
    "def process_table(df, df_header, filename, first):\n",
    "    \n",
    "    \n",
    "    if df.empty or df_header.empty:\n",
    "        print(\"DataFrame ou cabeçalho vazio.\")\n",
    "        return pd.DataFrame() \n",
    "    \n",
    "    weeknumber = filename[3:5]\n",
    "\n",
    "    df = df.iloc[first:].reset_index(drop=True)\n",
    "    df.columns = df.iloc[0]\n",
    "    df = df[:]\n",
    "\n",
    "\n",
    "    df = df.loc[:, (df != '').any(axis=0)]\n",
    "\n",
    "    df.dropna(axis=1, how='all')\n",
    "\n",
    "    col_names = [f'Coluna{i+1}' for i in range(len(df.columns))]\n",
    "    df.columns = col_names\n",
    "\n",
    "    for col in col_names[1:len(df.columns)]:\n",
    "        df[col] = df[col].str.replace(' ', '')\n",
    "\n",
    "    first_col_name = df.columns[0]\n",
    "    df = df[~df[first_col_name].str.match(r'^(TOTAL|FUENTE.*|§FUENTE.*)')]\n",
    "\n",
    "    indices_para_converter = range(1, len(df.columns))\n",
    "    for idx in indices_para_converter:\n",
    "        if idx < len(df.columns): \n",
    "            df.iloc[:, idx] = pd.to_numeric(df.iloc[:, idx], errors='coerce').fillna(0).astype(int)\n",
    "\n",
    "    num_col = len(df.columns)\n",
    "\n",
    "\n",
    "    df1 = df.iloc[:, 0:4].copy()\n",
    "\n",
    "    df1['Acum'] = ''\n",
    "\n",
    "    if len(df_header) > 1 and len(df_header.columns) > 1:\n",
    "        df1['disease'] = df_header.iloc[0, 1].replace('\\n', ' ')\n",
    "        df1['year'] = df_header.iloc[1, 1].replace('\\n', ' ')\n",
    "    else:\n",
    "        df1['disease'] = ''\n",
    "        df1['year'] = ''\n",
    "\n",
    "\n",
    "    df1['MF'] = df1.get('Coluna3', 0) + df1.get('Coluna4', 0)  \n",
    "\n",
    "\n",
    "    df1['Acum_Year'] = int(df_header.iloc[1, 1].replace('\\n', ' ')) - 1\n",
    "    df1['week'] = weeknumber\n",
    "\n",
    "    novos_nomes = [\n",
    "        'ENTIDAD FEDERATIVA',\n",
    "        'Sem.',\n",
    "        'M',\n",
    "        'F',\n",
    "        'Acum.'\n",
    "    ]\n",
    "\n",
    "    df1.columns = novos_nomes + list(df1.columns[5:])\n",
    "    column_order = [0, 1, 2, 3, 7, 4, 8, 5, 6, 9]\n",
    "    df1 = df1.iloc[:, column_order]\n",
    "\n",
    "\n",
    "    df2 = df.iloc[:, [0] + list(range(4, 7))].copy()\n",
    "\n",
    "    df2['Acum'] = ''\n",
    "\n",
    "    if len(df_header) > 0 and len(df_header.columns) > 5:\n",
    "        df2['disease'] = df_header.iloc[0, 4].replace('\\n', ' ')\n",
    "        df2['year'] = df_header.iloc[1, 4].replace('\\n', ' ')\n",
    "    else:\n",
    "        df2['disease'] = ''\n",
    "        df2['year'] = ''\n",
    "\n",
    "\n",
    "    df2['MF'] = df2.get('Coluna6', 0) + df2.get('Coluna7', 0)\n",
    "\n",
    "    df2['Acum_Year'] = int(df_header.iloc[1, 4].replace('\\n', ' ')) - 1\n",
    "\n",
    "    df2['week'] = weeknumber\n",
    "\n",
    "\n",
    "    df2.columns = novos_nomes + list(df2.columns[5:])\n",
    "    column_order = [0, 1, 2, 3, 7, 4, 8, 5, 6, 9]\n",
    "    df2 = df2.iloc[:, column_order]\n",
    "\n",
    "\n",
    "    df3 = df.iloc[:, [0] + list(range(7,len(df.columns)))].copy()\n",
    "\n",
    "\n",
    "    if len(df_header) > 0 and len(df_header.columns) > 5:\n",
    "        df3['disease'] = df_header.iloc[0, 7].replace('\\n', ' ')\n",
    "        df3['year'] = df_header.iloc[1, 7].replace('\\n', ' ')\n",
    "    else:\n",
    "        df3['disease'] = ''\n",
    "        df3['year'] = ''\n",
    "\n",
    "    df3['MF'] = df3.get('Coluna9', 0) + df3.get('Coluna10', 0)\n",
    "\n",
    "\n",
    "    df3['Acum_Year'] = int(df_header.iloc[1, 7].replace('\\n', ' ')) - 1\n",
    "\n",
    "    df3['week'] = weeknumber\n",
    "\n",
    "\n",
    "    df3.columns = novos_nomes + list(df3.columns[5:])\n",
    "\n",
    "    column_order = [0, 1, 2, 3, 7, 4, 8, 5, 6, 9]\n",
    "\n",
    "    df3 = df3.iloc[:, column_order]\n",
    "    \n",
    "    df_all = pd.concat([df1, df2, df3], axis=0, ignore_index=True)\n",
    "    \n",
    "\n",
    "    return df_all"
   ]
  },
  {
   "cell_type": "markdown",
   "metadata": {},
   "source": [
    "### Process selected year/disease and save into selected folder"
   ]
  },
  {
   "cell_type": "code",
   "execution_count": 41,
   "metadata": {},
   "outputs": [
    {
     "name": "stdout",
     "output_type": "stream",
     "text": [
      "Processando o arquivo: /home/pirata/Documents/projects/epidemic_database/files/2014/sem43.pdf\n",
      "Processando a página 43 com a tabela desejada.\n",
      "Processando o arquivo: /home/pirata/Documents/projects/epidemic_database/files/2014/sem37.pdf\n",
      "Processando a página 43 com a tabela desejada.\n",
      "Processando o arquivo: /home/pirata/Documents/projects/epidemic_database/files/2014/sem24.pdf\n"
     ]
    },
    {
     "name": "stderr",
     "output_type": "stream",
     "text": [
      "/home/pirata/.local/lib/python3.8/site-packages/camelot/parsers/stream.py:448: UserWarning: page-1 is image-based, camelot only works on text-based pages.\n",
      "  warnings.warn(\n"
     ]
    },
    {
     "name": "stdout",
     "output_type": "stream",
     "text": [
      "Nenhuma tabela encontrada na pagina 0\n"
     ]
    },
    {
     "name": "stderr",
     "output_type": "stream",
     "text": [
      "/home/pirata/.local/lib/python3.8/site-packages/camelot/parsers/stream.py:448: UserWarning: page-2 is image-based, camelot only works on text-based pages.\n",
      "  warnings.warn(\n"
     ]
    },
    {
     "name": "stdout",
     "output_type": "stream",
     "text": [
      "Nenhuma tabela encontrada na pagina 1\n"
     ]
    },
    {
     "name": "stderr",
     "output_type": "stream",
     "text": [
      "/home/pirata/.local/lib/python3.8/site-packages/camelot/parsers/stream.py:448: UserWarning: page-3 is image-based, camelot only works on text-based pages.\n",
      "  warnings.warn(\n"
     ]
    },
    {
     "name": "stdout",
     "output_type": "stream",
     "text": [
      "Nenhuma tabela encontrada na pagina 2\n"
     ]
    },
    {
     "name": "stderr",
     "output_type": "stream",
     "text": [
      "/home/pirata/.local/lib/python3.8/site-packages/camelot/parsers/stream.py:448: UserWarning: page-4 is image-based, camelot only works on text-based pages.\n",
      "  warnings.warn(\n"
     ]
    },
    {
     "name": "stdout",
     "output_type": "stream",
     "text": [
      "Nenhuma tabela encontrada na pagina 3\n"
     ]
    },
    {
     "name": "stderr",
     "output_type": "stream",
     "text": [
      "/home/pirata/.local/lib/python3.8/site-packages/camelot/parsers/stream.py:448: UserWarning: page-5 is image-based, camelot only works on text-based pages.\n",
      "  warnings.warn(\n"
     ]
    },
    {
     "name": "stdout",
     "output_type": "stream",
     "text": [
      "Nenhuma tabela encontrada na pagina 4\n"
     ]
    },
    {
     "name": "stderr",
     "output_type": "stream",
     "text": [
      "/home/pirata/.local/lib/python3.8/site-packages/camelot/parsers/stream.py:448: UserWarning: page-6 is image-based, camelot only works on text-based pages.\n",
      "  warnings.warn(\n"
     ]
    },
    {
     "name": "stdout",
     "output_type": "stream",
     "text": [
      "Nenhuma tabela encontrada na pagina 5\n"
     ]
    },
    {
     "name": "stderr",
     "output_type": "stream",
     "text": [
      "/home/pirata/.local/lib/python3.8/site-packages/camelot/parsers/stream.py:448: UserWarning: page-7 is image-based, camelot only works on text-based pages.\n",
      "  warnings.warn(\n"
     ]
    },
    {
     "name": "stdout",
     "output_type": "stream",
     "text": [
      "Nenhuma tabela encontrada na pagina 6\n"
     ]
    },
    {
     "name": "stderr",
     "output_type": "stream",
     "text": [
      "/home/pirata/.local/lib/python3.8/site-packages/camelot/parsers/stream.py:448: UserWarning: page-8 is image-based, camelot only works on text-based pages.\n",
      "  warnings.warn(\n"
     ]
    },
    {
     "name": "stdout",
     "output_type": "stream",
     "text": [
      "Nenhuma tabela encontrada na pagina 7\n",
      "Processando a página 43 com a tabela desejada.\n"
     ]
    },
    {
     "name": "stderr",
     "output_type": "stream",
     "text": [
      "/home/pirata/.local/lib/python3.8/site-packages/camelot/parsers/stream.py:448: UserWarning: page-64 is image-based, camelot only works on text-based pages.\n",
      "  warnings.warn(\n"
     ]
    },
    {
     "name": "stdout",
     "output_type": "stream",
     "text": [
      "Nenhuma tabela encontrada na pagina 63\n",
      "Processando o arquivo: /home/pirata/Documents/projects/epidemic_database/files/2014/sem42.pdf\n"
     ]
    },
    {
     "name": "stderr",
     "output_type": "stream",
     "text": [
      "/home/pirata/.local/lib/python3.8/site-packages/camelot/parsers/stream.py:365: UserWarning: No tables found in table area 1\n",
      "  warnings.warn(f\"No tables found in table area {table_idx + 1}\")\n",
      "/home/pirata/.local/lib/python3.8/site-packages/camelot/parsers/stream.py:448: UserWarning: page-2 is image-based, camelot only works on text-based pages.\n",
      "  warnings.warn(\n"
     ]
    },
    {
     "name": "stdout",
     "output_type": "stream",
     "text": [
      "Nenhuma tabela encontrada na pagina 1\n"
     ]
    },
    {
     "name": "stderr",
     "output_type": "stream",
     "text": [
      "/home/pirata/.local/lib/python3.8/site-packages/camelot/parsers/stream.py:448: UserWarning: page-3 is image-based, camelot only works on text-based pages.\n",
      "  warnings.warn(\n"
     ]
    },
    {
     "name": "stdout",
     "output_type": "stream",
     "text": [
      "Nenhuma tabela encontrada na pagina 2\n"
     ]
    },
    {
     "name": "stderr",
     "output_type": "stream",
     "text": [
      "/home/pirata/.local/lib/python3.8/site-packages/camelot/parsers/stream.py:448: UserWarning: page-4 is image-based, camelot only works on text-based pages.\n",
      "  warnings.warn(\n"
     ]
    },
    {
     "name": "stdout",
     "output_type": "stream",
     "text": [
      "Nenhuma tabela encontrada na pagina 3\n"
     ]
    },
    {
     "name": "stderr",
     "output_type": "stream",
     "text": [
      "/home/pirata/.local/lib/python3.8/site-packages/camelot/parsers/stream.py:448: UserWarning: page-5 is image-based, camelot only works on text-based pages.\n",
      "  warnings.warn(\n"
     ]
    },
    {
     "name": "stdout",
     "output_type": "stream",
     "text": [
      "Nenhuma tabela encontrada na pagina 4\n"
     ]
    },
    {
     "name": "stderr",
     "output_type": "stream",
     "text": [
      "/home/pirata/.local/lib/python3.8/site-packages/camelot/parsers/stream.py:448: UserWarning: page-6 is image-based, camelot only works on text-based pages.\n",
      "  warnings.warn(\n"
     ]
    },
    {
     "name": "stdout",
     "output_type": "stream",
     "text": [
      "Nenhuma tabela encontrada na pagina 5\n"
     ]
    },
    {
     "name": "stderr",
     "output_type": "stream",
     "text": [
      "/home/pirata/.local/lib/python3.8/site-packages/camelot/parsers/stream.py:448: UserWarning: page-7 is image-based, camelot only works on text-based pages.\n",
      "  warnings.warn(\n"
     ]
    },
    {
     "name": "stdout",
     "output_type": "stream",
     "text": [
      "Nenhuma tabela encontrada na pagina 6\n"
     ]
    },
    {
     "name": "stderr",
     "output_type": "stream",
     "text": [
      "/home/pirata/.local/lib/python3.8/site-packages/camelot/parsers/stream.py:448: UserWarning: page-8 is image-based, camelot only works on text-based pages.\n",
      "  warnings.warn(\n"
     ]
    },
    {
     "name": "stdout",
     "output_type": "stream",
     "text": [
      "Nenhuma tabela encontrada na pagina 7\n",
      "Processando a página 43 com a tabela desejada.\n"
     ]
    },
    {
     "name": "stderr",
     "output_type": "stream",
     "text": [
      "/home/pirata/.local/lib/python3.8/site-packages/camelot/parsers/stream.py:448: UserWarning: page-64 is image-based, camelot only works on text-based pages.\n",
      "  warnings.warn(\n"
     ]
    },
    {
     "name": "stdout",
     "output_type": "stream",
     "text": [
      "Nenhuma tabela encontrada na pagina 63\n",
      "Processando o arquivo: /home/pirata/Documents/projects/epidemic_database/files/2014/sem51.pdf\n"
     ]
    },
    {
     "name": "stderr",
     "output_type": "stream",
     "text": [
      "/home/pirata/.local/lib/python3.8/site-packages/camelot/parsers/stream.py:448: UserWarning: page-1 is image-based, camelot only works on text-based pages.\n",
      "  warnings.warn(\n"
     ]
    },
    {
     "name": "stdout",
     "output_type": "stream",
     "text": [
      "Nenhuma tabela encontrada na pagina 0\n"
     ]
    },
    {
     "name": "stderr",
     "output_type": "stream",
     "text": [
      "/home/pirata/.local/lib/python3.8/site-packages/camelot/parsers/stream.py:448: UserWarning: page-2 is image-based, camelot only works on text-based pages.\n",
      "  warnings.warn(\n"
     ]
    },
    {
     "name": "stdout",
     "output_type": "stream",
     "text": [
      "Nenhuma tabela encontrada na pagina 1\n"
     ]
    },
    {
     "name": "stderr",
     "output_type": "stream",
     "text": [
      "/home/pirata/.local/lib/python3.8/site-packages/camelot/parsers/stream.py:448: UserWarning: page-3 is image-based, camelot only works on text-based pages.\n",
      "  warnings.warn(\n"
     ]
    },
    {
     "name": "stdout",
     "output_type": "stream",
     "text": [
      "Nenhuma tabela encontrada na pagina 2\n"
     ]
    },
    {
     "name": "stderr",
     "output_type": "stream",
     "text": [
      "/home/pirata/.local/lib/python3.8/site-packages/camelot/parsers/stream.py:448: UserWarning: page-4 is image-based, camelot only works on text-based pages.\n",
      "  warnings.warn(\n"
     ]
    },
    {
     "name": "stdout",
     "output_type": "stream",
     "text": [
      "Nenhuma tabela encontrada na pagina 3\n"
     ]
    },
    {
     "name": "stderr",
     "output_type": "stream",
     "text": [
      "/home/pirata/.local/lib/python3.8/site-packages/camelot/parsers/stream.py:448: UserWarning: page-5 is image-based, camelot only works on text-based pages.\n",
      "  warnings.warn(\n"
     ]
    },
    {
     "name": "stdout",
     "output_type": "stream",
     "text": [
      "Nenhuma tabela encontrada na pagina 4\n"
     ]
    },
    {
     "name": "stderr",
     "output_type": "stream",
     "text": [
      "/home/pirata/.local/lib/python3.8/site-packages/camelot/parsers/stream.py:448: UserWarning: page-6 is image-based, camelot only works on text-based pages.\n",
      "  warnings.warn(\n"
     ]
    },
    {
     "name": "stdout",
     "output_type": "stream",
     "text": [
      "Nenhuma tabela encontrada na pagina 5\n"
     ]
    },
    {
     "name": "stderr",
     "output_type": "stream",
     "text": [
      "/home/pirata/.local/lib/python3.8/site-packages/camelot/parsers/stream.py:448: UserWarning: page-7 is image-based, camelot only works on text-based pages.\n",
      "  warnings.warn(\n"
     ]
    },
    {
     "name": "stdout",
     "output_type": "stream",
     "text": [
      "Nenhuma tabela encontrada na pagina 6\n",
      "Processando a página 43 com a tabela desejada.\n"
     ]
    },
    {
     "name": "stderr",
     "output_type": "stream",
     "text": [
      "/home/pirata/.local/lib/python3.8/site-packages/camelot/parsers/stream.py:448: UserWarning: page-64 is image-based, camelot only works on text-based pages.\n",
      "  warnings.warn(\n"
     ]
    },
    {
     "name": "stdout",
     "output_type": "stream",
     "text": [
      "Nenhuma tabela encontrada na pagina 63\n",
      "Processando o arquivo: /home/pirata/Documents/projects/epidemic_database/files/2014/sem04.pdf\n",
      "Processando a página 39 com a tabela desejada.\n",
      "Processando o arquivo: /home/pirata/Documents/projects/epidemic_database/files/2014/sem35.pdf\n",
      "Processando a página 39 com a tabela desejada.\n",
      "Processando o arquivo: /home/pirata/Documents/projects/epidemic_database/files/2014/sem49.pdf\n"
     ]
    },
    {
     "name": "stderr",
     "output_type": "stream",
     "text": [
      "/home/pirata/.local/lib/python3.8/site-packages/camelot/parsers/stream.py:365: UserWarning: No tables found in table area 2\n",
      "  warnings.warn(f\"No tables found in table area {table_idx + 1}\")\n",
      "/home/pirata/.local/lib/python3.8/site-packages/camelot/parsers/stream.py:365: UserWarning: No tables found in table area 2\n",
      "  warnings.warn(f\"No tables found in table area {table_idx + 1}\")\n"
     ]
    },
    {
     "name": "stdout",
     "output_type": "stream",
     "text": [
      "Processando a página 43 com a tabela desejada.\n",
      "Processando o arquivo: /home/pirata/Documents/projects/epidemic_database/files/2014/sem14.pdf\n",
      "Processando a página 41 com a tabela desejada.\n",
      "Processando o arquivo: /home/pirata/Documents/projects/epidemic_database/files/2014/sem08.pdf\n"
     ]
    },
    {
     "name": "stderr",
     "output_type": "stream",
     "text": [
      "/home/pirata/.local/lib/python3.8/site-packages/camelot/parsers/stream.py:365: UserWarning: No tables found in table area 1\n",
      "  warnings.warn(f\"No tables found in table area {table_idx + 1}\")\n"
     ]
    },
    {
     "name": "stdout",
     "output_type": "stream",
     "text": [
      "Processando a página 41 com a tabela desejada.\n",
      "Processando o arquivo: /home/pirata/Documents/projects/epidemic_database/files/2014/sem03.pdf\n"
     ]
    },
    {
     "name": "stderr",
     "output_type": "stream",
     "text": [
      "/home/pirata/.local/lib/python3.8/site-packages/camelot/parsers/stream.py:365: UserWarning: No tables found in table area 1\n",
      "  warnings.warn(f\"No tables found in table area {table_idx + 1}\")\n"
     ]
    },
    {
     "name": "stdout",
     "output_type": "stream",
     "text": [
      "Processando a página 40 com a tabela desejada.\n",
      "Processando o arquivo: /home/pirata/Documents/projects/epidemic_database/files/2014/sem18.pdf\n",
      "Processando a página 47 com a tabela desejada.\n",
      "Processando o arquivo: /home/pirata/Documents/projects/epidemic_database/files/2014/sem28.pdf\n",
      "Processando a página 39 com a tabela desejada.\n",
      "Processando o arquivo: /home/pirata/Documents/projects/epidemic_database/files/2014/sem52.pdf\n"
     ]
    },
    {
     "name": "stderr",
     "output_type": "stream",
     "text": [
      "/home/pirata/.local/lib/python3.8/site-packages/camelot/parsers/stream.py:448: UserWarning: page-1 is image-based, camelot only works on text-based pages.\n",
      "  warnings.warn(\n"
     ]
    },
    {
     "name": "stdout",
     "output_type": "stream",
     "text": [
      "Nenhuma tabela encontrada na pagina 0\n"
     ]
    },
    {
     "name": "stderr",
     "output_type": "stream",
     "text": [
      "/home/pirata/.local/lib/python3.8/site-packages/camelot/parsers/stream.py:448: UserWarning: page-2 is image-based, camelot only works on text-based pages.\n",
      "  warnings.warn(\n"
     ]
    },
    {
     "name": "stdout",
     "output_type": "stream",
     "text": [
      "Nenhuma tabela encontrada na pagina 1\n"
     ]
    },
    {
     "name": "stderr",
     "output_type": "stream",
     "text": [
      "/home/pirata/.local/lib/python3.8/site-packages/camelot/parsers/stream.py:448: UserWarning: page-3 is image-based, camelot only works on text-based pages.\n",
      "  warnings.warn(\n"
     ]
    },
    {
     "name": "stdout",
     "output_type": "stream",
     "text": [
      "Nenhuma tabela encontrada na pagina 2\n"
     ]
    },
    {
     "name": "stderr",
     "output_type": "stream",
     "text": [
      "/home/pirata/.local/lib/python3.8/site-packages/camelot/parsers/stream.py:448: UserWarning: page-4 is image-based, camelot only works on text-based pages.\n",
      "  warnings.warn(\n"
     ]
    },
    {
     "name": "stdout",
     "output_type": "stream",
     "text": [
      "Nenhuma tabela encontrada na pagina 3\n",
      "Processando a página 39 com a tabela desejada.\n"
     ]
    },
    {
     "name": "stderr",
     "output_type": "stream",
     "text": [
      "/home/pirata/.local/lib/python3.8/site-packages/camelot/parsers/stream.py:448: UserWarning: page-60 is image-based, camelot only works on text-based pages.\n",
      "  warnings.warn(\n"
     ]
    },
    {
     "name": "stdout",
     "output_type": "stream",
     "text": [
      "Nenhuma tabela encontrada na pagina 59\n",
      "Processando o arquivo: /home/pirata/Documents/projects/epidemic_database/files/2014/sem25.pdf\n",
      "Processando a página 43 com a tabela desejada.\n",
      "Processando o arquivo: /home/pirata/Documents/projects/epidemic_database/files/2014/sem13.pdf\n",
      "Processando a página 38 com a tabela desejada.\n",
      "Processando o arquivo: /home/pirata/Documents/projects/epidemic_database/files/2014/sem05.pdf\n"
     ]
    },
    {
     "name": "stderr",
     "output_type": "stream",
     "text": [
      "/home/pirata/.local/lib/python3.8/site-packages/camelot/parsers/stream.py:365: UserWarning: No tables found in table area 1\n",
      "  warnings.warn(f\"No tables found in table area {table_idx + 1}\")\n",
      "/home/pirata/.local/lib/python3.8/site-packages/camelot/parsers/stream.py:365: UserWarning: No tables found in table area 1\n",
      "  warnings.warn(f\"No tables found in table area {table_idx + 1}\")\n"
     ]
    },
    {
     "name": "stdout",
     "output_type": "stream",
     "text": [
      "Processando a página 41 com a tabela desejada.\n",
      "Processando o arquivo: /home/pirata/Documents/projects/epidemic_database/files/2014/sem32.pdf\n"
     ]
    },
    {
     "name": "stderr",
     "output_type": "stream",
     "text": [
      "/home/pirata/.local/lib/python3.8/site-packages/camelot/parsers/stream.py:365: UserWarning: No tables found in table area 2\n",
      "  warnings.warn(f\"No tables found in table area {table_idx + 1}\")\n"
     ]
    },
    {
     "name": "stdout",
     "output_type": "stream",
     "text": [
      "Processando a página 43 com a tabela desejada.\n",
      "Processando o arquivo: /home/pirata/Documents/projects/epidemic_database/files/2014/sem27.pdf\n",
      "Processando a página 41 com a tabela desejada.\n",
      "Processando o arquivo: /home/pirata/Documents/projects/epidemic_database/files/2014/sem20.pdf\n",
      "Processando a página 43 com a tabela desejada.\n",
      "Processando o arquivo: /home/pirata/Documents/projects/epidemic_database/files/2014/sem23.pdf\n",
      "Processando a página 43 com a tabela desejada.\n",
      "Processando o arquivo: /home/pirata/Documents/projects/epidemic_database/files/2014/sem02.pdf\n",
      "Processando a página 40 com a tabela desejada.\n",
      "Processando o arquivo: /home/pirata/Documents/projects/epidemic_database/files/2014/sem22.pdf\n",
      "Processando a página 43 com a tabela desejada.\n",
      "Processando o arquivo: /home/pirata/Documents/projects/epidemic_database/files/2014/sem34.pdf\n",
      "Processando a página 39 com a tabela desejada.\n",
      "Processando o arquivo: /home/pirata/Documents/projects/epidemic_database/files/2014/sem10.pdf\n",
      "Processando a página 40 com a tabela desejada.\n",
      "Processando o arquivo: /home/pirata/Documents/projects/epidemic_database/files/2014/sem09.pdf\n",
      "Processando a página 40 com a tabela desejada.\n",
      "Processando o arquivo: /home/pirata/Documents/projects/epidemic_database/files/2014/sem39.pdf\n",
      "Processando a página 39 com a tabela desejada.\n",
      "Processando o arquivo: /home/pirata/Documents/projects/epidemic_database/files/2014/sem50.pdf\n"
     ]
    },
    {
     "name": "stderr",
     "output_type": "stream",
     "text": [
      "/home/pirata/.local/lib/python3.8/site-packages/camelot/parsers/stream.py:448: UserWarning: page-1 is image-based, camelot only works on text-based pages.\n",
      "  warnings.warn(\n"
     ]
    },
    {
     "name": "stdout",
     "output_type": "stream",
     "text": [
      "Nenhuma tabela encontrada na pagina 0\n"
     ]
    },
    {
     "name": "stderr",
     "output_type": "stream",
     "text": [
      "/home/pirata/.local/lib/python3.8/site-packages/camelot/parsers/stream.py:448: UserWarning: page-2 is image-based, camelot only works on text-based pages.\n",
      "  warnings.warn(\n"
     ]
    },
    {
     "name": "stdout",
     "output_type": "stream",
     "text": [
      "Nenhuma tabela encontrada na pagina 1\n"
     ]
    },
    {
     "name": "stderr",
     "output_type": "stream",
     "text": [
      "/home/pirata/.local/lib/python3.8/site-packages/camelot/parsers/stream.py:448: UserWarning: page-3 is image-based, camelot only works on text-based pages.\n",
      "  warnings.warn(\n"
     ]
    },
    {
     "name": "stdout",
     "output_type": "stream",
     "text": [
      "Nenhuma tabela encontrada na pagina 2\n"
     ]
    },
    {
     "name": "stderr",
     "output_type": "stream",
     "text": [
      "/home/pirata/.local/lib/python3.8/site-packages/camelot/parsers/stream.py:448: UserWarning: page-4 is image-based, camelot only works on text-based pages.\n",
      "  warnings.warn(\n"
     ]
    },
    {
     "name": "stdout",
     "output_type": "stream",
     "text": [
      "Nenhuma tabela encontrada na pagina 3\n"
     ]
    },
    {
     "name": "stderr",
     "output_type": "stream",
     "text": [
      "/home/pirata/.local/lib/python3.8/site-packages/camelot/parsers/stream.py:448: UserWarning: page-5 is image-based, camelot only works on text-based pages.\n",
      "  warnings.warn(\n"
     ]
    },
    {
     "name": "stdout",
     "output_type": "stream",
     "text": [
      "Nenhuma tabela encontrada na pagina 4\n",
      "Erro ao processar a página 6: list index out of range\n",
      "Erro ao processar a página 7: list index out of range\n",
      "Processando a página 43 com a tabela desejada.\n"
     ]
    },
    {
     "name": "stderr",
     "output_type": "stream",
     "text": [
      "/home/pirata/.local/lib/python3.8/site-packages/camelot/parsers/stream.py:448: UserWarning: page-64 is image-based, camelot only works on text-based pages.\n",
      "  warnings.warn(\n"
     ]
    },
    {
     "name": "stdout",
     "output_type": "stream",
     "text": [
      "Nenhuma tabela encontrada na pagina 63\n",
      "Processando o arquivo: /home/pirata/Documents/projects/epidemic_database/files/2014/sem19.pdf\n"
     ]
    },
    {
     "name": "stderr",
     "output_type": "stream",
     "text": [
      "/home/pirata/.local/lib/python3.8/site-packages/camelot/parsers/stream.py:448: UserWarning: page-1 is image-based, camelot only works on text-based pages.\n",
      "  warnings.warn(\n"
     ]
    },
    {
     "name": "stdout",
     "output_type": "stream",
     "text": [
      "Nenhuma tabela encontrada na pagina 0\n"
     ]
    },
    {
     "name": "stderr",
     "output_type": "stream",
     "text": [
      "/home/pirata/.local/lib/python3.8/site-packages/camelot/parsers/stream.py:448: UserWarning: page-2 is image-based, camelot only works on text-based pages.\n",
      "  warnings.warn(\n"
     ]
    },
    {
     "name": "stdout",
     "output_type": "stream",
     "text": [
      "Nenhuma tabela encontrada na pagina 1\n"
     ]
    },
    {
     "name": "stderr",
     "output_type": "stream",
     "text": [
      "/home/pirata/.local/lib/python3.8/site-packages/camelot/parsers/stream.py:448: UserWarning: page-3 is image-based, camelot only works on text-based pages.\n",
      "  warnings.warn(\n"
     ]
    },
    {
     "name": "stdout",
     "output_type": "stream",
     "text": [
      "Nenhuma tabela encontrada na pagina 2\n"
     ]
    },
    {
     "name": "stderr",
     "output_type": "stream",
     "text": [
      "/home/pirata/.local/lib/python3.8/site-packages/camelot/parsers/stream.py:448: UserWarning: page-4 is image-based, camelot only works on text-based pages.\n",
      "  warnings.warn(\n"
     ]
    },
    {
     "name": "stdout",
     "output_type": "stream",
     "text": [
      "Nenhuma tabela encontrada na pagina 3\n"
     ]
    },
    {
     "name": "stderr",
     "output_type": "stream",
     "text": [
      "/home/pirata/.local/lib/python3.8/site-packages/camelot/parsers/stream.py:365: UserWarning: No tables found in table area 1\n",
      "  warnings.warn(f\"No tables found in table area {table_idx + 1}\")\n",
      "/home/pirata/.local/lib/python3.8/site-packages/camelot/parsers/stream.py:448: UserWarning: page-6 is image-based, camelot only works on text-based pages.\n",
      "  warnings.warn(\n"
     ]
    },
    {
     "name": "stdout",
     "output_type": "stream",
     "text": [
      "Nenhuma tabela encontrada na pagina 5\n"
     ]
    },
    {
     "name": "stderr",
     "output_type": "stream",
     "text": [
      "/home/pirata/.local/lib/python3.8/site-packages/camelot/parsers/stream.py:365: UserWarning: No tables found in table area 1\n",
      "  warnings.warn(f\"No tables found in table area {table_idx + 1}\")\n"
     ]
    },
    {
     "name": "stdout",
     "output_type": "stream",
     "text": [
      "Processando a página 43 com a tabela desejada.\n"
     ]
    },
    {
     "name": "stderr",
     "output_type": "stream",
     "text": [
      "/home/pirata/.local/lib/python3.8/site-packages/camelot/parsers/stream.py:448: UserWarning: page-68 is image-based, camelot only works on text-based pages.\n",
      "  warnings.warn(\n"
     ]
    },
    {
     "name": "stdout",
     "output_type": "stream",
     "text": [
      "Nenhuma tabela encontrada na pagina 67\n",
      "Processando o arquivo: /home/pirata/Documents/projects/epidemic_database/files/2014/sem29.pdf\n",
      "Processando a página 43 com a tabela desejada.\n",
      "Processando o arquivo: /home/pirata/Documents/projects/epidemic_database/files/2014/sem41.pdf\n"
     ]
    },
    {
     "name": "stderr",
     "output_type": "stream",
     "text": [
      "/home/pirata/.local/lib/python3.8/site-packages/camelot/parsers/stream.py:448: UserWarning: page-1 is image-based, camelot only works on text-based pages.\n",
      "  warnings.warn(\n"
     ]
    },
    {
     "name": "stdout",
     "output_type": "stream",
     "text": [
      "Nenhuma tabela encontrada na pagina 0\n",
      "Erro ao processar a página 2: list index out of range\n"
     ]
    },
    {
     "name": "stderr",
     "output_type": "stream",
     "text": [
      "/home/pirata/.local/lib/python3.8/site-packages/camelot/parsers/stream.py:448: UserWarning: page-3 is image-based, camelot only works on text-based pages.\n",
      "  warnings.warn(\n"
     ]
    },
    {
     "name": "stdout",
     "output_type": "stream",
     "text": [
      "Nenhuma tabela encontrada na pagina 2\n"
     ]
    },
    {
     "name": "stderr",
     "output_type": "stream",
     "text": [
      "/home/pirata/.local/lib/python3.8/site-packages/camelot/parsers/stream.py:448: UserWarning: page-4 is image-based, camelot only works on text-based pages.\n",
      "  warnings.warn(\n"
     ]
    },
    {
     "name": "stdout",
     "output_type": "stream",
     "text": [
      "Nenhuma tabela encontrada na pagina 3\n",
      "Processando a página 39 com a tabela desejada.\n"
     ]
    },
    {
     "name": "stderr",
     "output_type": "stream",
     "text": [
      "/home/pirata/.local/lib/python3.8/site-packages/camelot/parsers/stream.py:448: UserWarning: page-60 is image-based, camelot only works on text-based pages.\n",
      "  warnings.warn(\n"
     ]
    },
    {
     "name": "stdout",
     "output_type": "stream",
     "text": [
      "Nenhuma tabela encontrada na pagina 59\n",
      "Processando o arquivo: /home/pirata/Documents/projects/epidemic_database/files/2014/sem06.pdf\n",
      "Processando a página 38 com a tabela desejada.\n",
      "Processando o arquivo: /home/pirata/Documents/projects/epidemic_database/files/2014/sem11.pdf\n",
      "Processando a página 39 com a tabela desejada.\n",
      "Processando o arquivo: /home/pirata/Documents/projects/epidemic_database/files/2014/sem47.pdf\n"
     ]
    },
    {
     "name": "stderr",
     "output_type": "stream",
     "text": [
      "/home/pirata/.local/lib/python3.8/site-packages/camelot/parsers/stream.py:365: UserWarning: No tables found in table area 1\n",
      "  warnings.warn(f\"No tables found in table area {table_idx + 1}\")\n",
      "/home/pirata/.local/lib/python3.8/site-packages/camelot/parsers/stream.py:448: UserWarning: page-2 is image-based, camelot only works on text-based pages.\n",
      "  warnings.warn(\n"
     ]
    },
    {
     "name": "stdout",
     "output_type": "stream",
     "text": [
      "Nenhuma tabela encontrada na pagina 1\n"
     ]
    },
    {
     "name": "stderr",
     "output_type": "stream",
     "text": [
      "/home/pirata/.local/lib/python3.8/site-packages/camelot/parsers/stream.py:448: UserWarning: page-3 is image-based, camelot only works on text-based pages.\n",
      "  warnings.warn(\n"
     ]
    },
    {
     "name": "stdout",
     "output_type": "stream",
     "text": [
      "Nenhuma tabela encontrada na pagina 2\n",
      "Processando a página 39 com a tabela desejada.\n"
     ]
    },
    {
     "name": "stderr",
     "output_type": "stream",
     "text": [
      "/home/pirata/.local/lib/python3.8/site-packages/camelot/parsers/stream.py:448: UserWarning: page-60 is image-based, camelot only works on text-based pages.\n",
      "  warnings.warn(\n"
     ]
    },
    {
     "name": "stdout",
     "output_type": "stream",
     "text": [
      "Nenhuma tabela encontrada na pagina 59\n",
      "Processando o arquivo: /home/pirata/Documents/projects/epidemic_database/files/2014/sem46.pdf\n",
      "Processando a página 43 com a tabela desejada.\n",
      "Processando o arquivo: /home/pirata/Documents/projects/epidemic_database/files/2014/sem38.pdf\n",
      "Processando a página 43 com a tabela desejada.\n",
      "Processando o arquivo: /home/pirata/Documents/projects/epidemic_database/files/2014/sem44.pdf\n",
      "Processando a página 39 com a tabela desejada.\n",
      "Processando o arquivo: /home/pirata/Documents/projects/epidemic_database/files/2014/sem17.pdf\n",
      "Processando a página 47 com a tabela desejada.\n",
      "Processando o arquivo: /home/pirata/Documents/projects/epidemic_database/files/2014/sem30.pdf\n",
      "Processando a página 43 com a tabela desejada.\n",
      "Processando o arquivo: /home/pirata/Documents/projects/epidemic_database/files/2014/sem16.pdf\n"
     ]
    },
    {
     "name": "stderr",
     "output_type": "stream",
     "text": [
      "/home/pirata/.local/lib/python3.8/site-packages/camelot/parsers/stream.py:365: UserWarning: No tables found in table area 1\n",
      "  warnings.warn(f\"No tables found in table area {table_idx + 1}\")\n"
     ]
    },
    {
     "name": "stdout",
     "output_type": "stream",
     "text": [
      "Processando a página 47 com a tabela desejada.\n",
      "Processando o arquivo: /home/pirata/Documents/projects/epidemic_database/files/2014/sem21.pdf\n",
      "Processando a página 43 com a tabela desejada.\n",
      "Processando o arquivo: /home/pirata/Documents/projects/epidemic_database/files/2014/sem36.pdf\n",
      "Processando a página 41 com a tabela desejada.\n",
      "Processando o arquivo: /home/pirata/Documents/projects/epidemic_database/files/2014/sem26.pdf\n",
      "Processando a página 39 com a tabela desejada.\n",
      "Processando o arquivo: /home/pirata/Documents/projects/epidemic_database/files/2014/sem15.pdf\n",
      "Processando a página 47 com a tabela desejada.\n",
      "Processando o arquivo: /home/pirata/Documents/projects/epidemic_database/files/2014/sem12.pdf\n"
     ]
    },
    {
     "name": "stderr",
     "output_type": "stream",
     "text": [
      "/home/pirata/.local/lib/python3.8/site-packages/camelot/parsers/stream.py:365: UserWarning: No tables found in table area 3\n",
      "  warnings.warn(f\"No tables found in table area {table_idx + 1}\")\n"
     ]
    },
    {
     "name": "stdout",
     "output_type": "stream",
     "text": [
      "Processando a página 42 com a tabela desejada.\n"
     ]
    },
    {
     "name": "stderr",
     "output_type": "stream",
     "text": [
      "/home/pirata/.local/lib/python3.8/site-packages/camelot/parsers/stream.py:365: UserWarning: No tables found in table area 3\n",
      "  warnings.warn(f\"No tables found in table area {table_idx + 1}\")\n"
     ]
    },
    {
     "name": "stdout",
     "output_type": "stream",
     "text": [
      "Processando o arquivo: /home/pirata/Documents/projects/epidemic_database/files/2014/sem45.pdf\n",
      "Processando a página 39 com a tabela desejada.\n",
      "Processando o arquivo: /home/pirata/Documents/projects/epidemic_database/files/2014/sem40.pdf\n",
      "Processando a página 41 com a tabela desejada.\n",
      "Processando o arquivo: /home/pirata/Documents/projects/epidemic_database/files/2014/sem48.pdf\n",
      "Processando a página 43 com a tabela desejada.\n",
      "Processando o arquivo: /home/pirata/Documents/projects/epidemic_database/files/2014/sem01.pdf\n",
      "Processando o arquivo: /home/pirata/Documents/projects/epidemic_database/files/2014/sem07.pdf\n"
     ]
    },
    {
     "name": "stderr",
     "output_type": "stream",
     "text": [
      "/home/pirata/.local/lib/python3.8/site-packages/camelot/parsers/stream.py:365: UserWarning: No tables found in table area 2\n",
      "  warnings.warn(f\"No tables found in table area {table_idx + 1}\")\n"
     ]
    },
    {
     "name": "stdout",
     "output_type": "stream",
     "text": [
      "Processando a página 41 com a tabela desejada.\n",
      "Processando o arquivo: /home/pirata/Documents/projects/epidemic_database/files/2014/sem31.pdf\n",
      "Processando a página 43 com a tabela desejada.\n",
      "Processando o arquivo: /home/pirata/Documents/projects/epidemic_database/files/2014/sem33.pdf\n",
      "Processando a página 43 com a tabela desejada.\n",
      "Processando o arquivo: /home/pirata/Documents/projects/epidemic_database/files/2014/sem53.pdf\n"
     ]
    },
    {
     "name": "stderr",
     "output_type": "stream",
     "text": [
      "/home/pirata/.local/lib/python3.8/site-packages/camelot/parsers/stream.py:448: UserWarning: page-1 is image-based, camelot only works on text-based pages.\n",
      "  warnings.warn(\n"
     ]
    },
    {
     "name": "stdout",
     "output_type": "stream",
     "text": [
      "Nenhuma tabela encontrada na pagina 0\n"
     ]
    },
    {
     "name": "stderr",
     "output_type": "stream",
     "text": [
      "/home/pirata/.local/lib/python3.8/site-packages/camelot/parsers/stream.py:448: UserWarning: page-2 is image-based, camelot only works on text-based pages.\n",
      "  warnings.warn(\n"
     ]
    },
    {
     "name": "stdout",
     "output_type": "stream",
     "text": [
      "Nenhuma tabela encontrada na pagina 1\n"
     ]
    },
    {
     "name": "stderr",
     "output_type": "stream",
     "text": [
      "/home/pirata/.local/lib/python3.8/site-packages/camelot/parsers/stream.py:448: UserWarning: page-3 is image-based, camelot only works on text-based pages.\n",
      "  warnings.warn(\n"
     ]
    },
    {
     "name": "stdout",
     "output_type": "stream",
     "text": [
      "Nenhuma tabela encontrada na pagina 2\n"
     ]
    },
    {
     "name": "stderr",
     "output_type": "stream",
     "text": [
      "/home/pirata/.local/lib/python3.8/site-packages/camelot/parsers/stream.py:448: UserWarning: page-4 is image-based, camelot only works on text-based pages.\n",
      "  warnings.warn(\n"
     ]
    },
    {
     "name": "stdout",
     "output_type": "stream",
     "text": [
      "Nenhuma tabela encontrada na pagina 3\n"
     ]
    },
    {
     "name": "stderr",
     "output_type": "stream",
     "text": [
      "/home/pirata/.local/lib/python3.8/site-packages/camelot/parsers/stream.py:448: UserWarning: page-5 is image-based, camelot only works on text-based pages.\n",
      "  warnings.warn(\n"
     ]
    },
    {
     "name": "stdout",
     "output_type": "stream",
     "text": [
      "Nenhuma tabela encontrada na pagina 4\n"
     ]
    },
    {
     "name": "stderr",
     "output_type": "stream",
     "text": [
      "/home/pirata/.local/lib/python3.8/site-packages/camelot/parsers/stream.py:448: UserWarning: page-8 is image-based, camelot only works on text-based pages.\n",
      "  warnings.warn(\n"
     ]
    },
    {
     "name": "stdout",
     "output_type": "stream",
     "text": [
      "Nenhuma tabela encontrada na pagina 7\n",
      "Processando a página 43 com a tabela desejada.\n",
      "Nenhuma tabela encontrada na pagina 63\n",
      "Salvando\n",
      "Arquivo salvo: 2014Síndrome Febril.csv\n"
     ]
    },
    {
     "name": "stderr",
     "output_type": "stream",
     "text": [
      "/home/pirata/.local/lib/python3.8/site-packages/camelot/parsers/stream.py:448: UserWarning: page-64 is image-based, camelot only works on text-based pages.\n",
      "  warnings.warn(\n"
     ]
    }
   ],
   "source": [
    "\n",
    "source_path = '/home/pirata/Documents/projects/epidemic_database/files/2014'\n",
    "sink_path = '/home/pirata/Documents/projects/epidemic_database/bases/2014/teste'\n",
    "desired_disease = 'Síndrome Febril'\n",
    "process_all_pdfs_in_folder(source_path, sink_path, desired_disease)"
   ]
  },
  {
   "cell_type": "code",
   "execution_count": null,
   "metadata": {},
   "outputs": [],
   "source": []
  },
  {
   "cell_type": "code",
   "execution_count": null,
   "metadata": {},
   "outputs": [],
   "source": []
  },
  {
   "cell_type": "code",
   "execution_count": null,
   "metadata": {},
   "outputs": [],
   "source": []
  },
  {
   "cell_type": "code",
   "execution_count": null,
   "metadata": {},
   "outputs": [],
   "source": []
  },
  {
   "cell_type": "code",
   "execution_count": null,
   "metadata": {},
   "outputs": [],
   "source": []
  },
  {
   "cell_type": "markdown",
   "metadata": {},
   "source": [
    "### Test function/ analysis"
   ]
  },
  {
   "cell_type": "code",
   "execution_count": 43,
   "metadata": {},
   "outputs": [],
   "source": [
    "# filename = 'sem05.pdf'\n",
    "\n",
    "# pdf_path = '/home/pirata/Documents/projects/epidemic_database/files/2014_teste/sem05.pdf'\n",
    "\n",
    "# page_num = 40\n",
    "\n",
    "# pdf = pdfplumber.open(pdf_path)\n",
    "\n",
    "# tables = camelot.read_pdf(pdf_path, pages=str(page_num + 1), flavor='stream')\n",
    "\n",
    "# if tables:\n",
    "#     dfx = tables[0].df\n",
    "#     page = pdf.pages[page_num]\n",
    "#     table = page.extract_table()\n",
    "#     df_header = pd.DataFrame(table)"
   ]
  },
  {
   "cell_type": "code",
   "execution_count": 44,
   "metadata": {},
   "outputs": [
    {
     "name": "stdout",
     "output_type": "stream",
     "text": [
      "5\n"
     ]
    }
   ],
   "source": [
    "# first = None\n",
    "\n",
    "# for n in range(4, 10):\n",
    "#     if dfx.iloc[n, 0]:\n",
    "#         first = n\n",
    "#         break\n",
    "        \n",
    "        \n",
    "# print(n)"
   ]
  },
  {
   "cell_type": "code",
   "execution_count": 60,
   "metadata": {},
   "outputs": [
    {
     "data": {
      "text/html": [
       "<div>\n",
       "<style scoped>\n",
       "    .dataframe tbody tr th:only-of-type {\n",
       "        vertical-align: middle;\n",
       "    }\n",
       "\n",
       "    .dataframe tbody tr th {\n",
       "        vertical-align: top;\n",
       "    }\n",
       "\n",
       "    .dataframe thead th {\n",
       "        text-align: right;\n",
       "    }\n",
       "</style>\n",
       "<table border=\"1\" class=\"dataframe\">\n",
       "  <thead>\n",
       "    <tr style=\"text-align: right;\">\n",
       "      <th></th>\n",
       "      <th>Coluna1</th>\n",
       "      <th>Coluna8</th>\n",
       "      <th>Coluna9</th>\n",
       "      <th>Coluna10</th>\n",
       "      <th>Coluna11</th>\n",
       "      <th>Acum</th>\n",
       "      <th>disease</th>\n",
       "      <th>year</th>\n",
       "    </tr>\n",
       "  </thead>\n",
       "  <tbody>\n",
       "    <tr>\n",
       "      <th>0</th>\n",
       "      <td>Aguascalientes</td>\n",
       "      <td>0</td>\n",
       "      <td>0</td>\n",
       "      <td>0</td>\n",
       "      <td>0</td>\n",
       "      <td></td>\n",
       "      <td>Enfermedad Febril Exantemática CIE-10ª REV. U97</td>\n",
       "      <td>2014</td>\n",
       "    </tr>\n",
       "    <tr>\n",
       "      <th>1</th>\n",
       "      <td>Baja California</td>\n",
       "      <td>0</td>\n",
       "      <td>0</td>\n",
       "      <td>0</td>\n",
       "      <td>0</td>\n",
       "      <td></td>\n",
       "      <td>Enfermedad Febril Exantemática CIE-10ª REV. U97</td>\n",
       "      <td>2014</td>\n",
       "    </tr>\n",
       "    <tr>\n",
       "      <th>2</th>\n",
       "      <td>Baja California Sur</td>\n",
       "      <td>0</td>\n",
       "      <td>0</td>\n",
       "      <td>0</td>\n",
       "      <td>0</td>\n",
       "      <td></td>\n",
       "      <td>Enfermedad Febril Exantemática CIE-10ª REV. U97</td>\n",
       "      <td>2014</td>\n",
       "    </tr>\n",
       "    <tr>\n",
       "      <th>3</th>\n",
       "      <td>Campeche</td>\n",
       "      <td>1</td>\n",
       "      <td>1</td>\n",
       "      <td>1</td>\n",
       "      <td>0</td>\n",
       "      <td></td>\n",
       "      <td>Enfermedad Febril Exantemática CIE-10ª REV. U97</td>\n",
       "      <td>2014</td>\n",
       "    </tr>\n",
       "    <tr>\n",
       "      <th>4</th>\n",
       "      <td>Coahuila</td>\n",
       "      <td>0</td>\n",
       "      <td>1</td>\n",
       "      <td>0</td>\n",
       "      <td>0</td>\n",
       "      <td></td>\n",
       "      <td>Enfermedad Febril Exantemática CIE-10ª REV. U97</td>\n",
       "      <td>2014</td>\n",
       "    </tr>\n",
       "    <tr>\n",
       "      <th>5</th>\n",
       "      <td>Colima</td>\n",
       "      <td>0</td>\n",
       "      <td>0</td>\n",
       "      <td>0</td>\n",
       "      <td>2</td>\n",
       "      <td></td>\n",
       "      <td>Enfermedad Febril Exantemática CIE-10ª REV. U97</td>\n",
       "      <td>2014</td>\n",
       "    </tr>\n",
       "    <tr>\n",
       "      <th>6</th>\n",
       "      <td>Chiapas</td>\n",
       "      <td>0</td>\n",
       "      <td>0</td>\n",
       "      <td>0</td>\n",
       "      <td>0</td>\n",
       "      <td></td>\n",
       "      <td>Enfermedad Febril Exantemática CIE-10ª REV. U97</td>\n",
       "      <td>2014</td>\n",
       "    </tr>\n",
       "    <tr>\n",
       "      <th>7</th>\n",
       "      <td>Chihuahua</td>\n",
       "      <td>0</td>\n",
       "      <td>0</td>\n",
       "      <td>0</td>\n",
       "      <td>0</td>\n",
       "      <td></td>\n",
       "      <td>Enfermedad Febril Exantemática CIE-10ª REV. U97</td>\n",
       "      <td>2014</td>\n",
       "    </tr>\n",
       "    <tr>\n",
       "      <th>8</th>\n",
       "      <td>Distrito Federal</td>\n",
       "      <td>0</td>\n",
       "      <td>3</td>\n",
       "      <td>6</td>\n",
       "      <td>0</td>\n",
       "      <td></td>\n",
       "      <td>Enfermedad Febril Exantemática CIE-10ª REV. U97</td>\n",
       "      <td>2014</td>\n",
       "    </tr>\n",
       "    <tr>\n",
       "      <th>9</th>\n",
       "      <td>Durango</td>\n",
       "      <td>0</td>\n",
       "      <td>1</td>\n",
       "      <td>1</td>\n",
       "      <td>0</td>\n",
       "      <td></td>\n",
       "      <td>Enfermedad Febril Exantemática CIE-10ª REV. U97</td>\n",
       "      <td>2014</td>\n",
       "    </tr>\n",
       "    <tr>\n",
       "      <th>10</th>\n",
       "      <td>Guanajuato</td>\n",
       "      <td>0</td>\n",
       "      <td>0</td>\n",
       "      <td>0</td>\n",
       "      <td>0</td>\n",
       "      <td></td>\n",
       "      <td>Enfermedad Febril Exantemática CIE-10ª REV. U97</td>\n",
       "      <td>2014</td>\n",
       "    </tr>\n",
       "    <tr>\n",
       "      <th>11</th>\n",
       "      <td>Guerrero</td>\n",
       "      <td>0</td>\n",
       "      <td>0</td>\n",
       "      <td>0</td>\n",
       "      <td>0</td>\n",
       "      <td></td>\n",
       "      <td>Enfermedad Febril Exantemática CIE-10ª REV. U97</td>\n",
       "      <td>2014</td>\n",
       "    </tr>\n",
       "    <tr>\n",
       "      <th>12</th>\n",
       "      <td>Hidalgo</td>\n",
       "      <td>1</td>\n",
       "      <td>5</td>\n",
       "      <td>1</td>\n",
       "      <td>6</td>\n",
       "      <td></td>\n",
       "      <td>Enfermedad Febril Exantemática CIE-10ª REV. U97</td>\n",
       "      <td>2014</td>\n",
       "    </tr>\n",
       "    <tr>\n",
       "      <th>13</th>\n",
       "      <td>Jalisco</td>\n",
       "      <td>0</td>\n",
       "      <td>0</td>\n",
       "      <td>0</td>\n",
       "      <td>0</td>\n",
       "      <td></td>\n",
       "      <td>Enfermedad Febril Exantemática CIE-10ª REV. U97</td>\n",
       "      <td>2014</td>\n",
       "    </tr>\n",
       "    <tr>\n",
       "      <th>14</th>\n",
       "      <td>México</td>\n",
       "      <td>0</td>\n",
       "      <td>1</td>\n",
       "      <td>1</td>\n",
       "      <td>0</td>\n",
       "      <td></td>\n",
       "      <td>Enfermedad Febril Exantemática CIE-10ª REV. U97</td>\n",
       "      <td>2014</td>\n",
       "    </tr>\n",
       "    <tr>\n",
       "      <th>15</th>\n",
       "      <td>Michoacán</td>\n",
       "      <td>0</td>\n",
       "      <td>0</td>\n",
       "      <td>0</td>\n",
       "      <td>0</td>\n",
       "      <td></td>\n",
       "      <td>Enfermedad Febril Exantemática CIE-10ª REV. U97</td>\n",
       "      <td>2014</td>\n",
       "    </tr>\n",
       "    <tr>\n",
       "      <th>16</th>\n",
       "      <td>Morelos</td>\n",
       "      <td>1</td>\n",
       "      <td>2</td>\n",
       "      <td>0</td>\n",
       "      <td>0</td>\n",
       "      <td></td>\n",
       "      <td>Enfermedad Febril Exantemática CIE-10ª REV. U97</td>\n",
       "      <td>2014</td>\n",
       "    </tr>\n",
       "    <tr>\n",
       "      <th>17</th>\n",
       "      <td>Nayarit</td>\n",
       "      <td>3</td>\n",
       "      <td>0</td>\n",
       "      <td>3</td>\n",
       "      <td>0</td>\n",
       "      <td></td>\n",
       "      <td>Enfermedad Febril Exantemática CIE-10ª REV. U97</td>\n",
       "      <td>2014</td>\n",
       "    </tr>\n",
       "    <tr>\n",
       "      <th>18</th>\n",
       "      <td>Nuevo León</td>\n",
       "      <td>0</td>\n",
       "      <td>0</td>\n",
       "      <td>0</td>\n",
       "      <td>4</td>\n",
       "      <td></td>\n",
       "      <td>Enfermedad Febril Exantemática CIE-10ª REV. U97</td>\n",
       "      <td>2014</td>\n",
       "    </tr>\n",
       "    <tr>\n",
       "      <th>19</th>\n",
       "      <td>Oaxaca</td>\n",
       "      <td>0</td>\n",
       "      <td>0</td>\n",
       "      <td>0</td>\n",
       "      <td>0</td>\n",
       "      <td></td>\n",
       "      <td>Enfermedad Febril Exantemática CIE-10ª REV. U97</td>\n",
       "      <td>2014</td>\n",
       "    </tr>\n",
       "    <tr>\n",
       "      <th>20</th>\n",
       "      <td>Puebla</td>\n",
       "      <td>2</td>\n",
       "      <td>4</td>\n",
       "      <td>2</td>\n",
       "      <td>0</td>\n",
       "      <td></td>\n",
       "      <td>Enfermedad Febril Exantemática CIE-10ª REV. U97</td>\n",
       "      <td>2014</td>\n",
       "    </tr>\n",
       "    <tr>\n",
       "      <th>21</th>\n",
       "      <td>Querétaro</td>\n",
       "      <td>1</td>\n",
       "      <td>1</td>\n",
       "      <td>3</td>\n",
       "      <td>0</td>\n",
       "      <td></td>\n",
       "      <td>Enfermedad Febril Exantemática CIE-10ª REV. U97</td>\n",
       "      <td>2014</td>\n",
       "    </tr>\n",
       "    <tr>\n",
       "      <th>22</th>\n",
       "      <td>Quintana Roo</td>\n",
       "      <td>0</td>\n",
       "      <td>0</td>\n",
       "      <td>0</td>\n",
       "      <td>0</td>\n",
       "      <td></td>\n",
       "      <td>Enfermedad Febril Exantemática CIE-10ª REV. U97</td>\n",
       "      <td>2014</td>\n",
       "    </tr>\n",
       "    <tr>\n",
       "      <th>23</th>\n",
       "      <td>San Luis Potosí</td>\n",
       "      <td>0</td>\n",
       "      <td>0</td>\n",
       "      <td>0</td>\n",
       "      <td>5</td>\n",
       "      <td></td>\n",
       "      <td>Enfermedad Febril Exantemática CIE-10ª REV. U97</td>\n",
       "      <td>2014</td>\n",
       "    </tr>\n",
       "    <tr>\n",
       "      <th>24</th>\n",
       "      <td>Sinaloa</td>\n",
       "      <td>0</td>\n",
       "      <td>0</td>\n",
       "      <td>0</td>\n",
       "      <td>0</td>\n",
       "      <td></td>\n",
       "      <td>Enfermedad Febril Exantemática CIE-10ª REV. U97</td>\n",
       "      <td>2014</td>\n",
       "    </tr>\n",
       "    <tr>\n",
       "      <th>25</th>\n",
       "      <td>Sonora</td>\n",
       "      <td>0</td>\n",
       "      <td>0</td>\n",
       "      <td>0</td>\n",
       "      <td>0</td>\n",
       "      <td></td>\n",
       "      <td>Enfermedad Febril Exantemática CIE-10ª REV. U97</td>\n",
       "      <td>2014</td>\n",
       "    </tr>\n",
       "    <tr>\n",
       "      <th>26</th>\n",
       "      <td>Tabasco</td>\n",
       "      <td>0</td>\n",
       "      <td>0</td>\n",
       "      <td>0</td>\n",
       "      <td>4</td>\n",
       "      <td></td>\n",
       "      <td>Enfermedad Febril Exantemática CIE-10ª REV. U97</td>\n",
       "      <td>2014</td>\n",
       "    </tr>\n",
       "    <tr>\n",
       "      <th>27</th>\n",
       "      <td>Tamaulipas</td>\n",
       "      <td>0</td>\n",
       "      <td>0</td>\n",
       "      <td>0</td>\n",
       "      <td>0</td>\n",
       "      <td></td>\n",
       "      <td>Enfermedad Febril Exantemática CIE-10ª REV. U97</td>\n",
       "      <td>2014</td>\n",
       "    </tr>\n",
       "    <tr>\n",
       "      <th>28</th>\n",
       "      <td>Tlaxcala</td>\n",
       "      <td>0</td>\n",
       "      <td>1</td>\n",
       "      <td>0</td>\n",
       "      <td>0</td>\n",
       "      <td></td>\n",
       "      <td>Enfermedad Febril Exantemática CIE-10ª REV. U97</td>\n",
       "      <td>2014</td>\n",
       "    </tr>\n",
       "    <tr>\n",
       "      <th>29</th>\n",
       "      <td>Veracruz</td>\n",
       "      <td>0</td>\n",
       "      <td>0</td>\n",
       "      <td>0</td>\n",
       "      <td>0</td>\n",
       "      <td></td>\n",
       "      <td>Enfermedad Febril Exantemática CIE-10ª REV. U97</td>\n",
       "      <td>2014</td>\n",
       "    </tr>\n",
       "    <tr>\n",
       "      <th>30</th>\n",
       "      <td>Yucatán</td>\n",
       "      <td>0</td>\n",
       "      <td>1</td>\n",
       "      <td>1</td>\n",
       "      <td>0</td>\n",
       "      <td></td>\n",
       "      <td>Enfermedad Febril Exantemática CIE-10ª REV. U97</td>\n",
       "      <td>2014</td>\n",
       "    </tr>\n",
       "    <tr>\n",
       "      <th>31</th>\n",
       "      <td>Zacatecas</td>\n",
       "      <td>0</td>\n",
       "      <td>0</td>\n",
       "      <td>0</td>\n",
       "      <td>0</td>\n",
       "      <td></td>\n",
       "      <td>Enfermedad Febril Exantemática CIE-10ª REV. U97</td>\n",
       "      <td>2014</td>\n",
       "    </tr>\n",
       "  </tbody>\n",
       "</table>\n",
       "</div>"
      ],
      "text/plain": [
       "                Coluna1 Coluna8 Coluna9 Coluna10 Coluna11 Acum  \\\n",
       "0        Aguascalientes       0       0        0        0        \n",
       "1       Baja California       0       0        0        0        \n",
       "2   Baja California Sur       0       0        0        0        \n",
       "3              Campeche       1       1        1        0        \n",
       "4              Coahuila       0       1        0        0        \n",
       "5                Colima       0       0        0        2        \n",
       "6               Chiapas       0       0        0        0        \n",
       "7             Chihuahua       0       0        0        0        \n",
       "8      Distrito Federal       0       3        6        0        \n",
       "9               Durango       0       1        1        0        \n",
       "10           Guanajuato       0       0        0        0        \n",
       "11             Guerrero       0       0        0        0        \n",
       "12              Hidalgo       1       5        1        6        \n",
       "13              Jalisco       0       0        0        0        \n",
       "14               México       0       1        1        0        \n",
       "15            Michoacán       0       0        0        0        \n",
       "16              Morelos       1       2        0        0        \n",
       "17              Nayarit       3       0        3        0        \n",
       "18           Nuevo León       0       0        0        4        \n",
       "19               Oaxaca       0       0        0        0        \n",
       "20               Puebla       2       4        2        0        \n",
       "21            Querétaro       1       1        3        0        \n",
       "22         Quintana Roo       0       0        0        0        \n",
       "23      San Luis Potosí       0       0        0        5        \n",
       "24              Sinaloa       0       0        0        0        \n",
       "25               Sonora       0       0        0        0        \n",
       "26              Tabasco       0       0        0        4        \n",
       "27           Tamaulipas       0       0        0        0        \n",
       "28             Tlaxcala       0       1        0        0        \n",
       "29             Veracruz       0       0        0        0        \n",
       "30              Yucatán       0       1        1        0        \n",
       "31            Zacatecas       0       0        0        0        \n",
       "\n",
       "                                            disease  year  \n",
       "0   Enfermedad Febril Exantemática CIE-10ª REV. U97  2014  \n",
       "1   Enfermedad Febril Exantemática CIE-10ª REV. U97  2014  \n",
       "2   Enfermedad Febril Exantemática CIE-10ª REV. U97  2014  \n",
       "3   Enfermedad Febril Exantemática CIE-10ª REV. U97  2014  \n",
       "4   Enfermedad Febril Exantemática CIE-10ª REV. U97  2014  \n",
       "5   Enfermedad Febril Exantemática CIE-10ª REV. U97  2014  \n",
       "6   Enfermedad Febril Exantemática CIE-10ª REV. U97  2014  \n",
       "7   Enfermedad Febril Exantemática CIE-10ª REV. U97  2014  \n",
       "8   Enfermedad Febril Exantemática CIE-10ª REV. U97  2014  \n",
       "9   Enfermedad Febril Exantemática CIE-10ª REV. U97  2014  \n",
       "10  Enfermedad Febril Exantemática CIE-10ª REV. U97  2014  \n",
       "11  Enfermedad Febril Exantemática CIE-10ª REV. U97  2014  \n",
       "12  Enfermedad Febril Exantemática CIE-10ª REV. U97  2014  \n",
       "13  Enfermedad Febril Exantemática CIE-10ª REV. U97  2014  \n",
       "14  Enfermedad Febril Exantemática CIE-10ª REV. U97  2014  \n",
       "15  Enfermedad Febril Exantemática CIE-10ª REV. U97  2014  \n",
       "16  Enfermedad Febril Exantemática CIE-10ª REV. U97  2014  \n",
       "17  Enfermedad Febril Exantemática CIE-10ª REV. U97  2014  \n",
       "18  Enfermedad Febril Exantemática CIE-10ª REV. U97  2014  \n",
       "19  Enfermedad Febril Exantemática CIE-10ª REV. U97  2014  \n",
       "20  Enfermedad Febril Exantemática CIE-10ª REV. U97  2014  \n",
       "21  Enfermedad Febril Exantemática CIE-10ª REV. U97  2014  \n",
       "22  Enfermedad Febril Exantemática CIE-10ª REV. U97  2014  \n",
       "23  Enfermedad Febril Exantemática CIE-10ª REV. U97  2014  \n",
       "24  Enfermedad Febril Exantemática CIE-10ª REV. U97  2014  \n",
       "25  Enfermedad Febril Exantemática CIE-10ª REV. U97  2014  \n",
       "26  Enfermedad Febril Exantemática CIE-10ª REV. U97  2014  \n",
       "27  Enfermedad Febril Exantemática CIE-10ª REV. U97  2014  \n",
       "28  Enfermedad Febril Exantemática CIE-10ª REV. U97  2014  \n",
       "29  Enfermedad Febril Exantemática CIE-10ª REV. U97  2014  \n",
       "30  Enfermedad Febril Exantemática CIE-10ª REV. U97  2014  \n",
       "31  Enfermedad Febril Exantemática CIE-10ª REV. U97  2014  "
      ]
     },
     "execution_count": 60,
     "metadata": {},
     "output_type": "execute_result"
    }
   ],
   "source": [
    "# weeknumber = filename[3:5]\n",
    "\n",
    "# df = dfx.iloc[5:].reset_index(drop=True)\n",
    "# df.columns = df.iloc[0]\n",
    "# df = df[:]\n",
    "\n",
    "\n",
    "# df = df.loc[:, (df != '').any(axis=0)]\n",
    "\n",
    "# df.dropna(axis=1, how='all')\n",
    "\n",
    "# col_names = [f'Coluna{i+1}' for i in range(len(df.columns))]\n",
    "# df.columns = col_names\n",
    "\n",
    "# for col in col_names[1:len(df.columns)]:\n",
    "#     df[col] = df[col].str.replace(' ', '')\n",
    "\n",
    "# first_col_name = df.columns[0]\n",
    "# df = df[~df[first_col_name].str.match(r'^(TOTAL|FUENTE.*|§FUENTE.*)')]\n",
    "\n",
    "# indices_para_converter = range(1, len(df.columns))\n",
    "# for idx in indices_para_converter:\n",
    "#     if idx < len(df.columns):  # Verifica se o índice está dentro dos limites\n",
    "#         df.iloc[:, idx] = pd.to_numeric(df.iloc[:, idx], errors='coerce').fillna(0).astype(int)\n",
    "\n",
    "# num_col = len(df.columns)\n",
    "\n",
    "\n",
    "# df1 = df.iloc[:, 0:4].copy()\n",
    "\n",
    "# df1['Acum'] = ''\n",
    "\n",
    "# if len(df_header) > 1 and len(df_header.columns) > 1:\n",
    "#     df1['disease'] = df_header.iloc[0, 1].replace('\\n', ' ')\n",
    "#     df1['year'] = df_header.iloc[1, 1].replace('\\n', ' ')\n",
    "# else:\n",
    "#     df1['disease'] = ''\n",
    "#     df1['year'] = ''\n",
    "\n",
    "\n",
    "# df1['MF'] = df1.get('Coluna3', 0) + df1.get('Coluna4', 0)  \n",
    "\n",
    "\n",
    "# df1['Acum_Year'] = int(df_header.iloc[1, 1].replace('\\n', ' ')) - 1\n",
    "# df1['week'] = weeknumber\n",
    "# # # # df1['En_Estudio'] = ''\n",
    "\n",
    "# novos_nomes = [\n",
    "#     'ENTIDAD FEDERATIVA',\n",
    "#     'Sem.',\n",
    "#     'M',\n",
    "#     'F',\n",
    "#     'Acum.'\n",
    "# ]\n",
    "\n",
    "# df1.columns = novos_nomes + list(df1.columns[5:])\n",
    "# column_order = [0, 1, 2, 3, 7, 4, 8, 5, 6, 9]\n",
    "# df1 = df1.iloc[:, column_order]\n",
    "\n",
    "\n",
    "# df2 = df.iloc[:, [0] + list(range(4, 7))].copy()\n",
    "\n",
    "# df2['Acum'] = ''\n",
    "\n",
    "# if len(df_header) > 0 and len(df_header.columns) > 5:\n",
    "#     df2['disease'] = df_header.iloc[0, 4].replace('\\n', ' ')\n",
    "#     df2['year'] = df_header.iloc[1, 4].replace('\\n', ' ')\n",
    "# else:\n",
    "#     df2['disease'] = ''\n",
    "#     df2['year'] = ''\n",
    "\n",
    "\n",
    "# df2['MF'] = df2.get('Coluna6', 0) + df2.get('Coluna7', 0)\n",
    "\n",
    "# df2['Acum_Year'] = int(df_header.iloc[1, 4].replace('\\n', ' ')) - 1\n",
    "\n",
    "# df2['week'] = weeknumber\n",
    "\n",
    "\n",
    "# df2.columns = novos_nomes + list(df2.columns[5:])\n",
    "# column_order = [0, 1, 2, 3, 7, 4, 8, 5, 6, 9]\n",
    "# df2 = df2.iloc[:, column_order]\n",
    "\n",
    "\n",
    "# df3 = df.iloc[:, [0] + list(range(7,len(df.columns)))].copy()\n",
    "\n",
    "# df3['Acum'] = ''\n",
    "\n",
    "# if len(df_header) > 0 and len(df_header.columns) > 5:\n",
    "#     df3['disease'] = df_header.iloc[0, 7].replace('\\n', ' ')\n",
    "#     df3['year'] = df_header.iloc[1, 7].replace('\\n', ' ')\n",
    "# else:\n",
    "#     df3['disease'] = ''\n",
    "#     df3['year'] = ''\n",
    "\n",
    "# df3['MF'] = df3.get('Coluna9', 0) + df3.get('Coluna10', 0)\n",
    "\n",
    "\n",
    "# df3['Acum_Year'] = int(df_header.iloc[1, 7].replace('\\n', ' ')) - 1\n",
    "\n",
    "# df3['week'] = weeknumber\n",
    "\n",
    "\n",
    "# df3.columns = novos_nomes + list(df3.columns[5:])\n",
    "\n",
    "# column_order = [0, 1, 2, 3, 7, 4, 8, 5, 6, 9]\n",
    "\n",
    "# df3 = df3.iloc[:, column_order]\n",
    "\n",
    "# df3"
   ]
  },
  {
   "cell_type": "code",
   "execution_count": 58,
   "metadata": {},
   "outputs": [
    {
     "data": {
      "text/plain": [
       "14"
      ]
     },
     "execution_count": 58,
     "metadata": {},
     "output_type": "execute_result"
    }
   ],
   "source": [
    "# len(df.columns)"
   ]
  },
  {
   "cell_type": "code",
   "execution_count": 7,
   "metadata": {},
   "outputs": [
    {
     "data": {
      "text/plain": [
       "'51'"
      ]
     },
     "metadata": {},
     "output_type": "display_data"
    }
   ],
   "source": [
    "# display(re.search(r'-SE(\\d+)\\.pdf', filename).group(1))"
   ]
  },
  {
   "cell_type": "code",
   "execution_count": 8,
   "metadata": {},
   "outputs": [
    {
     "data": {
      "text/plain": [
       "True"
      ]
     },
     "execution_count": 8,
     "metadata": {},
     "output_type": "execute_result"
    }
   ],
   "source": [
    "# desired_disease = 'Dengue'\n",
    "\n",
    "# desired_disease in df_header.iloc[0, 1]"
   ]
  },
  {
   "cell_type": "code",
   "execution_count": 62,
   "metadata": {},
   "outputs": [
    {
     "data": {
      "text/plain": [
       "16"
      ]
     },
     "execution_count": 62,
     "metadata": {},
     "output_type": "execute_result"
    }
   ],
   "source": [
    "# len(dfx.columns)"
   ]
  },
  {
   "cell_type": "code",
   "execution_count": 45,
   "metadata": {
    "scrolled": false
   },
   "outputs": [
    {
     "data": {
      "text/html": [
       "<div>\n",
       "<style scoped>\n",
       "    .dataframe tbody tr th:only-of-type {\n",
       "        vertical-align: middle;\n",
       "    }\n",
       "\n",
       "    .dataframe tbody tr th {\n",
       "        vertical-align: top;\n",
       "    }\n",
       "\n",
       "    .dataframe thead th {\n",
       "        text-align: right;\n",
       "    }\n",
       "</style>\n",
       "<table border=\"1\" class=\"dataframe\">\n",
       "  <thead>\n",
       "    <tr style=\"text-align: right;\">\n",
       "      <th></th>\n",
       "      <th>0</th>\n",
       "      <th>1</th>\n",
       "      <th>2</th>\n",
       "      <th>3</th>\n",
       "      <th>4</th>\n",
       "      <th>5</th>\n",
       "      <th>6</th>\n",
       "      <th>7</th>\n",
       "      <th>8</th>\n",
       "      <th>9</th>\n",
       "      <th>10</th>\n",
       "    </tr>\n",
       "  </thead>\n",
       "  <tbody>\n",
       "    <tr>\n",
       "      <th>0</th>\n",
       "      <td>ENTIDAD\\nFEDERATIVA</td>\n",
       "      <td>Síndrome Febril\\nCIE-10ª REV.\\nR50</td>\n",
       "      <td>None</td>\n",
       "      <td>None</td>\n",
       "      <td>Efectos del Calor y de la Luz\\nCIE-10ª REV.\\nT67</td>\n",
       "      <td>None</td>\n",
       "      <td>None</td>\n",
       "      <td>Enfermedad Febril Exantemática\\nCIE-10ª REV.\\nU97</td>\n",
       "      <td>None</td>\n",
       "      <td>None</td>\n",
       "      <td>None</td>\n",
       "    </tr>\n",
       "    <tr>\n",
       "      <th>1</th>\n",
       "      <td>None</td>\n",
       "      <td>2014</td>\n",
       "      <td>None</td>\n",
       "      <td>None</td>\n",
       "      <td>2014</td>\n",
       "      <td>None</td>\n",
       "      <td>None</td>\n",
       "      <td>2014</td>\n",
       "      <td>None</td>\n",
       "      <td>None</td>\n",
       "      <td>2013</td>\n",
       "    </tr>\n",
       "    <tr>\n",
       "      <th>2</th>\n",
       "      <td>None</td>\n",
       "      <td>Sem.</td>\n",
       "      <td>Acum.</td>\n",
       "      <td>None</td>\n",
       "      <td>Sem.</td>\n",
       "      <td>Acum.</td>\n",
       "      <td>None</td>\n",
       "      <td>Sem.</td>\n",
       "      <td>Acum.</td>\n",
       "      <td>None</td>\n",
       "      <td>Acum.</td>\n",
       "    </tr>\n",
       "    <tr>\n",
       "      <th>3</th>\n",
       "      <td>None</td>\n",
       "      <td>None</td>\n",
       "      <td>M</td>\n",
       "      <td>F</td>\n",
       "      <td>None</td>\n",
       "      <td>M</td>\n",
       "      <td>F</td>\n",
       "      <td>None</td>\n",
       "      <td>M</td>\n",
       "      <td>F</td>\n",
       "      <td>None</td>\n",
       "    </tr>\n",
       "    <tr>\n",
       "      <th>4</th>\n",
       "      <td>Aguascalientes</td>\n",
       "      <td>None</td>\n",
       "      <td>- -\\n- 1\\n12 31\\n10 13\\n- -\\n14 16\\n6 5\\n- -\\n...</td>\n",
       "      <td>None</td>\n",
       "      <td>-\\n-\\n-\\n-\\n-\\n-\\n-\\n-\\n-\\n-\\n-\\n-\\n1\\n2\\n3\\n-...</td>\n",
       "      <td>- -\\n- -\\n- -\\n- -\\n- -\\n- -\\n- 1\\n- -\\n1 -\\n-...</td>\n",
       "      <td>None</td>\n",
       "      <td>-\\n-\\n-\\n1\\n-\\n-\\n-\\n-\\n-\\n-\\n-\\n-\\n1\\n-\\n-\\n-...</td>\n",
       "      <td>- -\\n- -\\n- -\\n1 1\\n1 -\\n- -\\n- -\\n- -\\n3 6\\n1...</td>\n",
       "      <td>None</td>\n",
       "      <td>-</td>\n",
       "    </tr>\n",
       "    <tr>\n",
       "      <th>5</th>\n",
       "      <td>TOTAL 347</td>\n",
       "      <td>None</td>\n",
       "      <td>367 439</td>\n",
       "      <td>None</td>\n",
       "      <td>18</td>\n",
       "      <td>11 25</td>\n",
       "      <td>None</td>\n",
       "      <td>9</td>\n",
       "      <td>21 19</td>\n",
       "      <td>None</td>\n",
       "      <td>21</td>\n",
       "    </tr>\n",
       "  </tbody>\n",
       "</table>\n",
       "</div>"
      ],
      "text/plain": [
       "                    0                                   1   \\\n",
       "0  ENTIDAD\\nFEDERATIVA  Síndrome Febril\\nCIE-10ª REV.\\nR50   \n",
       "1                 None                                2014   \n",
       "2                 None                                Sem.   \n",
       "3                 None                                None   \n",
       "4       Aguascalientes                                None   \n",
       "5            TOTAL 347                                None   \n",
       "\n",
       "                                                  2     3   \\\n",
       "0                                               None  None   \n",
       "1                                               None  None   \n",
       "2                                              Acum.  None   \n",
       "3                                                  M     F   \n",
       "4  - -\\n- 1\\n12 31\\n10 13\\n- -\\n14 16\\n6 5\\n- -\\n...  None   \n",
       "5                                            367 439  None   \n",
       "\n",
       "                                                  4   \\\n",
       "0   Efectos del Calor y de la Luz\\nCIE-10ª REV.\\nT67   \n",
       "1                                               2014   \n",
       "2                                               Sem.   \n",
       "3                                               None   \n",
       "4  -\\n-\\n-\\n-\\n-\\n-\\n-\\n-\\n-\\n-\\n-\\n-\\n1\\n2\\n3\\n-...   \n",
       "5                                                 18   \n",
       "\n",
       "                                                  5     6   \\\n",
       "0                                               None  None   \n",
       "1                                               None  None   \n",
       "2                                              Acum.  None   \n",
       "3                                                  M     F   \n",
       "4  - -\\n- -\\n- -\\n- -\\n- -\\n- -\\n- 1\\n- -\\n1 -\\n-...  None   \n",
       "5                                              11 25  None   \n",
       "\n",
       "                                                  7   \\\n",
       "0  Enfermedad Febril Exantemática\\nCIE-10ª REV.\\nU97   \n",
       "1                                               2014   \n",
       "2                                               Sem.   \n",
       "3                                               None   \n",
       "4  -\\n-\\n-\\n1\\n-\\n-\\n-\\n-\\n-\\n-\\n-\\n-\\n1\\n-\\n-\\n-...   \n",
       "5                                                  9   \n",
       "\n",
       "                                                  8     9      10  \n",
       "0                                               None  None   None  \n",
       "1                                               None  None   2013  \n",
       "2                                              Acum.  None  Acum.  \n",
       "3                                                  M     F   None  \n",
       "4  - -\\n- -\\n- -\\n1 1\\n1 -\\n- -\\n- -\\n- -\\n3 6\\n1...  None      -  \n",
       "5                                              21 19  None     21  "
      ]
     },
     "execution_count": 45,
     "metadata": {},
     "output_type": "execute_result"
    }
   ],
   "source": [
    "# df_header"
   ]
  },
  {
   "cell_type": "code",
   "execution_count": 46,
   "metadata": {},
   "outputs": [
    {
     "data": {
      "text/html": [
       "<div>\n",
       "<style scoped>\n",
       "    .dataframe tbody tr th:only-of-type {\n",
       "        vertical-align: middle;\n",
       "    }\n",
       "\n",
       "    .dataframe tbody tr th {\n",
       "        vertical-align: top;\n",
       "    }\n",
       "\n",
       "    .dataframe thead th {\n",
       "        text-align: right;\n",
       "    }\n",
       "</style>\n",
       "<table border=\"1\" class=\"dataframe\">\n",
       "  <thead>\n",
       "    <tr style=\"text-align: right;\">\n",
       "      <th></th>\n",
       "      <th>0</th>\n",
       "      <th>1</th>\n",
       "      <th>2</th>\n",
       "      <th>3</th>\n",
       "      <th>4</th>\n",
       "      <th>5</th>\n",
       "      <th>6</th>\n",
       "      <th>7</th>\n",
       "      <th>8</th>\n",
       "      <th>9</th>\n",
       "      <th>10</th>\n",
       "      <th>11</th>\n",
       "      <th>12</th>\n",
       "      <th>13</th>\n",
       "      <th>14</th>\n",
       "    </tr>\n",
       "  </thead>\n",
       "  <tbody>\n",
       "    <tr>\n",
       "      <th>0</th>\n",
       "      <td>FEDERATIVA</td>\n",
       "      <td></td>\n",
       "      <td></td>\n",
       "      <td></td>\n",
       "      <td></td>\n",
       "      <td></td>\n",
       "      <td></td>\n",
       "      <td></td>\n",
       "      <td></td>\n",
       "      <td></td>\n",
       "      <td></td>\n",
       "      <td></td>\n",
       "      <td></td>\n",
       "      <td></td>\n",
       "      <td></td>\n",
       "    </tr>\n",
       "    <tr>\n",
       "      <th>1</th>\n",
       "      <td></td>\n",
       "      <td></td>\n",
       "      <td>2014</td>\n",
       "      <td></td>\n",
       "      <td></td>\n",
       "      <td>2014</td>\n",
       "      <td></td>\n",
       "      <td></td>\n",
       "      <td></td>\n",
       "      <td></td>\n",
       "      <td>2014</td>\n",
       "      <td></td>\n",
       "      <td></td>\n",
       "      <td></td>\n",
       "      <td>2013</td>\n",
       "    </tr>\n",
       "    <tr>\n",
       "      <th>2</th>\n",
       "      <td></td>\n",
       "      <td></td>\n",
       "      <td>Acum.</td>\n",
       "      <td></td>\n",
       "      <td></td>\n",
       "      <td></td>\n",
       "      <td>Acum.</td>\n",
       "      <td></td>\n",
       "      <td></td>\n",
       "      <td></td>\n",
       "      <td></td>\n",
       "      <td>Acum.</td>\n",
       "      <td></td>\n",
       "      <td></td>\n",
       "      <td></td>\n",
       "    </tr>\n",
       "    <tr>\n",
       "      <th>3</th>\n",
       "      <td></td>\n",
       "      <td>Sem.</td>\n",
       "      <td></td>\n",
       "      <td></td>\n",
       "      <td>Sem.</td>\n",
       "      <td></td>\n",
       "      <td></td>\n",
       "      <td></td>\n",
       "      <td></td>\n",
       "      <td>Sem.</td>\n",
       "      <td></td>\n",
       "      <td></td>\n",
       "      <td></td>\n",
       "      <td></td>\n",
       "      <td>Acum.</td>\n",
       "    </tr>\n",
       "    <tr>\n",
       "      <th>4</th>\n",
       "      <td></td>\n",
       "      <td></td>\n",
       "      <td>M</td>\n",
       "      <td>F</td>\n",
       "      <td></td>\n",
       "      <td>M</td>\n",
       "      <td></td>\n",
       "      <td>F</td>\n",
       "      <td></td>\n",
       "      <td></td>\n",
       "      <td>M</td>\n",
       "      <td></td>\n",
       "      <td>F</td>\n",
       "      <td></td>\n",
       "      <td></td>\n",
       "    </tr>\n",
       "    <tr>\n",
       "      <th>5</th>\n",
       "      <td>Aguascalientes</td>\n",
       "      <td>-</td>\n",
       "      <td>-</td>\n",
       "      <td>-</td>\n",
       "      <td>-</td>\n",
       "      <td></td>\n",
       "      <td>-</td>\n",
       "      <td></td>\n",
       "      <td>-</td>\n",
       "      <td>-</td>\n",
       "      <td></td>\n",
       "      <td>-</td>\n",
       "      <td></td>\n",
       "      <td>-</td>\n",
       "      <td>-</td>\n",
       "    </tr>\n",
       "    <tr>\n",
       "      <th>6</th>\n",
       "      <td>Baja California</td>\n",
       "      <td>1</td>\n",
       "      <td>-</td>\n",
       "      <td>1</td>\n",
       "      <td>-</td>\n",
       "      <td></td>\n",
       "      <td>-</td>\n",
       "      <td></td>\n",
       "      <td>-</td>\n",
       "      <td>-</td>\n",
       "      <td></td>\n",
       "      <td>-</td>\n",
       "      <td></td>\n",
       "      <td>-</td>\n",
       "      <td>-</td>\n",
       "    </tr>\n",
       "    <tr>\n",
       "      <th>7</th>\n",
       "      <td>Baja California Sur</td>\n",
       "      <td>32</td>\n",
       "      <td>12</td>\n",
       "      <td>31</td>\n",
       "      <td>-</td>\n",
       "      <td></td>\n",
       "      <td>-</td>\n",
       "      <td></td>\n",
       "      <td>-</td>\n",
       "      <td>-</td>\n",
       "      <td></td>\n",
       "      <td>-</td>\n",
       "      <td></td>\n",
       "      <td>-</td>\n",
       "      <td>-</td>\n",
       "    </tr>\n",
       "    <tr>\n",
       "      <th>8</th>\n",
       "      <td>Campeche</td>\n",
       "      <td>21</td>\n",
       "      <td>10</td>\n",
       "      <td>13</td>\n",
       "      <td>-</td>\n",
       "      <td></td>\n",
       "      <td>-</td>\n",
       "      <td></td>\n",
       "      <td>-</td>\n",
       "      <td>1</td>\n",
       "      <td></td>\n",
       "      <td>1</td>\n",
       "      <td></td>\n",
       "      <td>1</td>\n",
       "      <td>-</td>\n",
       "    </tr>\n",
       "    <tr>\n",
       "      <th>9</th>\n",
       "      <td>Coahuila</td>\n",
       "      <td>-</td>\n",
       "      <td>-</td>\n",
       "      <td>-</td>\n",
       "      <td>-</td>\n",
       "      <td></td>\n",
       "      <td>-</td>\n",
       "      <td></td>\n",
       "      <td>-</td>\n",
       "      <td>-</td>\n",
       "      <td></td>\n",
       "      <td>1</td>\n",
       "      <td></td>\n",
       "      <td>-</td>\n",
       "      <td>-</td>\n",
       "    </tr>\n",
       "    <tr>\n",
       "      <th>10</th>\n",
       "      <td>Colima</td>\n",
       "      <td>9</td>\n",
       "      <td>14</td>\n",
       "      <td>16</td>\n",
       "      <td>-</td>\n",
       "      <td></td>\n",
       "      <td>-</td>\n",
       "      <td></td>\n",
       "      <td>-</td>\n",
       "      <td>-</td>\n",
       "      <td></td>\n",
       "      <td>-</td>\n",
       "      <td></td>\n",
       "      <td>-</td>\n",
       "      <td>2</td>\n",
       "    </tr>\n",
       "    <tr>\n",
       "      <th>11</th>\n",
       "      <td>Chiapas</td>\n",
       "      <td>11</td>\n",
       "      <td>6</td>\n",
       "      <td>5</td>\n",
       "      <td>-</td>\n",
       "      <td></td>\n",
       "      <td>-</td>\n",
       "      <td></td>\n",
       "      <td>1</td>\n",
       "      <td>-</td>\n",
       "      <td></td>\n",
       "      <td>-</td>\n",
       "      <td></td>\n",
       "      <td>-</td>\n",
       "      <td>-</td>\n",
       "    </tr>\n",
       "    <tr>\n",
       "      <th>12</th>\n",
       "      <td>Chihuahua</td>\n",
       "      <td>-</td>\n",
       "      <td>-</td>\n",
       "      <td>-</td>\n",
       "      <td>-</td>\n",
       "      <td></td>\n",
       "      <td>-</td>\n",
       "      <td></td>\n",
       "      <td>-</td>\n",
       "      <td>-</td>\n",
       "      <td></td>\n",
       "      <td>-</td>\n",
       "      <td></td>\n",
       "      <td>-</td>\n",
       "      <td>-</td>\n",
       "    </tr>\n",
       "    <tr>\n",
       "      <th>13</th>\n",
       "      <td>Distrito Federal</td>\n",
       "      <td>9</td>\n",
       "      <td>10</td>\n",
       "      <td>9</td>\n",
       "      <td>-</td>\n",
       "      <td></td>\n",
       "      <td>1</td>\n",
       "      <td></td>\n",
       "      <td>-</td>\n",
       "      <td>-</td>\n",
       "      <td></td>\n",
       "      <td>3</td>\n",
       "      <td></td>\n",
       "      <td>6</td>\n",
       "      <td>-</td>\n",
       "    </tr>\n",
       "    <tr>\n",
       "      <th>14</th>\n",
       "      <td>Durango</td>\n",
       "      <td>-</td>\n",
       "      <td>-</td>\n",
       "      <td>2</td>\n",
       "      <td>-</td>\n",
       "      <td></td>\n",
       "      <td>-</td>\n",
       "      <td></td>\n",
       "      <td>-</td>\n",
       "      <td>-</td>\n",
       "      <td></td>\n",
       "      <td>1</td>\n",
       "      <td></td>\n",
       "      <td>1</td>\n",
       "      <td>-</td>\n",
       "    </tr>\n",
       "    <tr>\n",
       "      <th>15</th>\n",
       "      <td>Guanajuato</td>\n",
       "      <td>-</td>\n",
       "      <td>-</td>\n",
       "      <td>-</td>\n",
       "      <td>-</td>\n",
       "      <td></td>\n",
       "      <td>-</td>\n",
       "      <td></td>\n",
       "      <td>-</td>\n",
       "      <td>-</td>\n",
       "      <td></td>\n",
       "      <td>-</td>\n",
       "      <td></td>\n",
       "      <td>-</td>\n",
       "      <td>-</td>\n",
       "    </tr>\n",
       "    <tr>\n",
       "      <th>16</th>\n",
       "      <td>Guerrero</td>\n",
       "      <td>11</td>\n",
       "      <td>23</td>\n",
       "      <td>19</td>\n",
       "      <td>-</td>\n",
       "      <td></td>\n",
       "      <td>-</td>\n",
       "      <td></td>\n",
       "      <td>-</td>\n",
       "      <td>-</td>\n",
       "      <td></td>\n",
       "      <td>-</td>\n",
       "      <td></td>\n",
       "      <td>-</td>\n",
       "      <td>-</td>\n",
       "    </tr>\n",
       "    <tr>\n",
       "      <th>17</th>\n",
       "      <td>Hidalgo</td>\n",
       "      <td>3</td>\n",
       "      <td>5</td>\n",
       "      <td>2</td>\n",
       "      <td>1</td>\n",
       "      <td></td>\n",
       "      <td>-</td>\n",
       "      <td></td>\n",
       "      <td>1</td>\n",
       "      <td>1</td>\n",
       "      <td></td>\n",
       "      <td>5</td>\n",
       "      <td></td>\n",
       "      <td>1</td>\n",
       "      <td>6</td>\n",
       "    </tr>\n",
       "    <tr>\n",
       "      <th>18</th>\n",
       "      <td>Jalisco</td>\n",
       "      <td>31</td>\n",
       "      <td>50</td>\n",
       "      <td>46</td>\n",
       "      <td>2</td>\n",
       "      <td></td>\n",
       "      <td>2</td>\n",
       "      <td></td>\n",
       "      <td>4</td>\n",
       "      <td>-</td>\n",
       "      <td></td>\n",
       "      <td>-</td>\n",
       "      <td></td>\n",
       "      <td>-</td>\n",
       "      <td>-</td>\n",
       "    </tr>\n",
       "    <tr>\n",
       "      <th>19</th>\n",
       "      <td>México</td>\n",
       "      <td>-</td>\n",
       "      <td>-</td>\n",
       "      <td>-</td>\n",
       "      <td>3</td>\n",
       "      <td></td>\n",
       "      <td>2</td>\n",
       "      <td></td>\n",
       "      <td>4</td>\n",
       "      <td>-</td>\n",
       "      <td></td>\n",
       "      <td>1</td>\n",
       "      <td></td>\n",
       "      <td>1</td>\n",
       "      <td>-</td>\n",
       "    </tr>\n",
       "    <tr>\n",
       "      <th>20</th>\n",
       "      <td>Michoacán</td>\n",
       "      <td>1</td>\n",
       "      <td>3</td>\n",
       "      <td>11</td>\n",
       "      <td>-</td>\n",
       "      <td></td>\n",
       "      <td>-</td>\n",
       "      <td></td>\n",
       "      <td>-</td>\n",
       "      <td>-</td>\n",
       "      <td></td>\n",
       "      <td>-</td>\n",
       "      <td></td>\n",
       "      <td>-</td>\n",
       "      <td>-</td>\n",
       "    </tr>\n",
       "    <tr>\n",
       "      <th>21</th>\n",
       "      <td>Morelos</td>\n",
       "      <td>3</td>\n",
       "      <td>-</td>\n",
       "      <td>4</td>\n",
       "      <td>3</td>\n",
       "      <td></td>\n",
       "      <td>1</td>\n",
       "      <td></td>\n",
       "      <td>3</td>\n",
       "      <td>1</td>\n",
       "      <td></td>\n",
       "      <td>2</td>\n",
       "      <td></td>\n",
       "      <td>-</td>\n",
       "      <td>-</td>\n",
       "    </tr>\n",
       "    <tr>\n",
       "      <th>22</th>\n",
       "      <td>Nayarit</td>\n",
       "      <td>5</td>\n",
       "      <td>3</td>\n",
       "      <td>5</td>\n",
       "      <td>-</td>\n",
       "      <td></td>\n",
       "      <td>-</td>\n",
       "      <td></td>\n",
       "      <td>-</td>\n",
       "      <td>3</td>\n",
       "      <td></td>\n",
       "      <td>-</td>\n",
       "      <td></td>\n",
       "      <td>3</td>\n",
       "      <td>-</td>\n",
       "    </tr>\n",
       "    <tr>\n",
       "      <th>23</th>\n",
       "      <td>Nuevo León</td>\n",
       "      <td>-</td>\n",
       "      <td>-</td>\n",
       "      <td>-</td>\n",
       "      <td>-</td>\n",
       "      <td></td>\n",
       "      <td>1</td>\n",
       "      <td></td>\n",
       "      <td>-</td>\n",
       "      <td>-</td>\n",
       "      <td></td>\n",
       "      <td>-</td>\n",
       "      <td></td>\n",
       "      <td>-</td>\n",
       "      <td>4</td>\n",
       "    </tr>\n",
       "    <tr>\n",
       "      <th>24</th>\n",
       "      <td>Oaxaca</td>\n",
       "      <td>33</td>\n",
       "      <td>35</td>\n",
       "      <td>52</td>\n",
       "      <td>5</td>\n",
       "      <td></td>\n",
       "      <td>3</td>\n",
       "      <td></td>\n",
       "      <td>8</td>\n",
       "      <td>-</td>\n",
       "      <td></td>\n",
       "      <td>-</td>\n",
       "      <td></td>\n",
       "      <td>-</td>\n",
       "      <td>-</td>\n",
       "    </tr>\n",
       "    <tr>\n",
       "      <th>25</th>\n",
       "      <td>Puebla</td>\n",
       "      <td>2</td>\n",
       "      <td>1</td>\n",
       "      <td>1</td>\n",
       "      <td>-</td>\n",
       "      <td></td>\n",
       "      <td>-</td>\n",
       "      <td></td>\n",
       "      <td>-</td>\n",
       "      <td>2</td>\n",
       "      <td></td>\n",
       "      <td>4</td>\n",
       "      <td></td>\n",
       "      <td>2</td>\n",
       "      <td>-</td>\n",
       "    </tr>\n",
       "    <tr>\n",
       "      <th>26</th>\n",
       "      <td>Querétaro</td>\n",
       "      <td>-</td>\n",
       "      <td>-</td>\n",
       "      <td>-</td>\n",
       "      <td>-</td>\n",
       "      <td></td>\n",
       "      <td>-</td>\n",
       "      <td></td>\n",
       "      <td>-</td>\n",
       "      <td>1</td>\n",
       "      <td></td>\n",
       "      <td>1</td>\n",
       "      <td></td>\n",
       "      <td>3</td>\n",
       "      <td>-</td>\n",
       "    </tr>\n",
       "    <tr>\n",
       "      <th>27</th>\n",
       "      <td>Quintana Roo</td>\n",
       "      <td>-</td>\n",
       "      <td>1</td>\n",
       "      <td>3</td>\n",
       "      <td>-</td>\n",
       "      <td></td>\n",
       "      <td>-</td>\n",
       "      <td></td>\n",
       "      <td>-</td>\n",
       "      <td>-</td>\n",
       "      <td></td>\n",
       "      <td>-</td>\n",
       "      <td></td>\n",
       "      <td>-</td>\n",
       "      <td>-</td>\n",
       "    </tr>\n",
       "    <tr>\n",
       "      <th>28</th>\n",
       "      <td>San Luis Potosí</td>\n",
       "      <td>-</td>\n",
       "      <td>1</td>\n",
       "      <td>1</td>\n",
       "      <td>-</td>\n",
       "      <td></td>\n",
       "      <td>-</td>\n",
       "      <td></td>\n",
       "      <td>-</td>\n",
       "      <td>-</td>\n",
       "      <td></td>\n",
       "      <td>-</td>\n",
       "      <td></td>\n",
       "      <td>-</td>\n",
       "      <td>5</td>\n",
       "    </tr>\n",
       "    <tr>\n",
       "      <th>29</th>\n",
       "      <td>Sinaloa</td>\n",
       "      <td>48</td>\n",
       "      <td>96</td>\n",
       "      <td>103</td>\n",
       "      <td>3</td>\n",
       "      <td></td>\n",
       "      <td>-</td>\n",
       "      <td></td>\n",
       "      <td>3</td>\n",
       "      <td>-</td>\n",
       "      <td></td>\n",
       "      <td>-</td>\n",
       "      <td></td>\n",
       "      <td>-</td>\n",
       "      <td>-</td>\n",
       "    </tr>\n",
       "    <tr>\n",
       "      <th>30</th>\n",
       "      <td>Sonora</td>\n",
       "      <td>6</td>\n",
       "      <td>11</td>\n",
       "      <td>14</td>\n",
       "      <td>1</td>\n",
       "      <td></td>\n",
       "      <td>1</td>\n",
       "      <td></td>\n",
       "      <td>1</td>\n",
       "      <td>-</td>\n",
       "      <td></td>\n",
       "      <td>-</td>\n",
       "      <td></td>\n",
       "      <td>-</td>\n",
       "      <td>-</td>\n",
       "    </tr>\n",
       "    <tr>\n",
       "      <th>31</th>\n",
       "      <td>Tabasco</td>\n",
       "      <td>40</td>\n",
       "      <td>36</td>\n",
       "      <td>33</td>\n",
       "      <td>-</td>\n",
       "      <td></td>\n",
       "      <td>-</td>\n",
       "      <td></td>\n",
       "      <td>-</td>\n",
       "      <td>-</td>\n",
       "      <td></td>\n",
       "      <td>-</td>\n",
       "      <td></td>\n",
       "      <td>-</td>\n",
       "      <td>4</td>\n",
       "    </tr>\n",
       "    <tr>\n",
       "      <th>32</th>\n",
       "      <td>Tamaulipas</td>\n",
       "      <td>30</td>\n",
       "      <td>15</td>\n",
       "      <td>25</td>\n",
       "      <td>-</td>\n",
       "      <td></td>\n",
       "      <td>-</td>\n",
       "      <td></td>\n",
       "      <td>-</td>\n",
       "      <td>-</td>\n",
       "      <td></td>\n",
       "      <td>-</td>\n",
       "      <td></td>\n",
       "      <td>-</td>\n",
       "      <td>-</td>\n",
       "    </tr>\n",
       "    <tr>\n",
       "      <th>33</th>\n",
       "      <td>Tlaxcala</td>\n",
       "      <td>-</td>\n",
       "      <td>-</td>\n",
       "      <td>-</td>\n",
       "      <td>-</td>\n",
       "      <td></td>\n",
       "      <td>-</td>\n",
       "      <td></td>\n",
       "      <td>-</td>\n",
       "      <td>-</td>\n",
       "      <td></td>\n",
       "      <td>1</td>\n",
       "      <td></td>\n",
       "      <td>-</td>\n",
       "      <td>-</td>\n",
       "    </tr>\n",
       "    <tr>\n",
       "      <th>34</th>\n",
       "      <td>Veracruz</td>\n",
       "      <td>43</td>\n",
       "      <td>21</td>\n",
       "      <td>34</td>\n",
       "      <td>-</td>\n",
       "      <td></td>\n",
       "      <td>-</td>\n",
       "      <td></td>\n",
       "      <td>-</td>\n",
       "      <td>-</td>\n",
       "      <td></td>\n",
       "      <td>-</td>\n",
       "      <td></td>\n",
       "      <td>-</td>\n",
       "      <td>-</td>\n",
       "    </tr>\n",
       "    <tr>\n",
       "      <th>35</th>\n",
       "      <td>Yucatán</td>\n",
       "      <td>3</td>\n",
       "      <td>4</td>\n",
       "      <td>3</td>\n",
       "      <td>-</td>\n",
       "      <td></td>\n",
       "      <td>-</td>\n",
       "      <td></td>\n",
       "      <td>-</td>\n",
       "      <td>-</td>\n",
       "      <td></td>\n",
       "      <td>1</td>\n",
       "      <td></td>\n",
       "      <td>1</td>\n",
       "      <td>-</td>\n",
       "    </tr>\n",
       "    <tr>\n",
       "      <th>36</th>\n",
       "      <td>Zacatecas</td>\n",
       "      <td>5</td>\n",
       "      <td>10</td>\n",
       "      <td>6</td>\n",
       "      <td>-</td>\n",
       "      <td></td>\n",
       "      <td>-</td>\n",
       "      <td></td>\n",
       "      <td>-</td>\n",
       "      <td>-</td>\n",
       "      <td></td>\n",
       "      <td>-</td>\n",
       "      <td></td>\n",
       "      <td>-</td>\n",
       "      <td>-</td>\n",
       "    </tr>\n",
       "    <tr>\n",
       "      <th>37</th>\n",
       "      <td>TOTAL</td>\n",
       "      <td>347</td>\n",
       "      <td>367</td>\n",
       "      <td>439</td>\n",
       "      <td>18</td>\n",
       "      <td></td>\n",
       "      <td>11</td>\n",
       "      <td></td>\n",
       "      <td>25</td>\n",
       "      <td>9</td>\n",
       "      <td></td>\n",
       "      <td>21</td>\n",
       "      <td></td>\n",
       "      <td>19</td>\n",
       "      <td>21</td>\n",
       "    </tr>\n",
       "    <tr>\n",
       "      <th>38</th>\n",
       "      <td>FUENTE: SINAVE/DGE/Salud 2014. Información pre...</td>\n",
       "      <td></td>\n",
       "      <td></td>\n",
       "      <td></td>\n",
       "      <td></td>\n",
       "      <td></td>\n",
       "      <td></td>\n",
       "      <td></td>\n",
       "      <td></td>\n",
       "      <td></td>\n",
       "      <td></td>\n",
       "      <td></td>\n",
       "      <td></td>\n",
       "      <td></td>\n",
       "      <td></td>\n",
       "    </tr>\n",
       "  </tbody>\n",
       "</table>\n",
       "</div>"
      ],
      "text/plain": [
       "                                                   0     1      2    3     4   \\\n",
       "0                                          FEDERATIVA                           \n",
       "1                                                             2014              \n",
       "2                                                            Acum.              \n",
       "3                                                      Sem.              Sem.   \n",
       "4                                                                M    F         \n",
       "5                                      Aguascalientes     -      -    -     -   \n",
       "6                                     Baja California     1      -    1     -   \n",
       "7                                 Baja California Sur    32     12   31     -   \n",
       "8                                            Campeche    21     10   13     -   \n",
       "9                                            Coahuila     -      -    -     -   \n",
       "10                                             Colima     9     14   16     -   \n",
       "11                                            Chiapas    11      6    5     -   \n",
       "12                                          Chihuahua     -      -    -     -   \n",
       "13                                   Distrito Federal     9     10    9     -   \n",
       "14                                            Durango     -      -    2     -   \n",
       "15                                         Guanajuato     -      -    -     -   \n",
       "16                                           Guerrero    11     23   19     -   \n",
       "17                                            Hidalgo     3      5    2     1   \n",
       "18                                            Jalisco    31     50   46     2   \n",
       "19                                             México     -      -    -     3   \n",
       "20                                          Michoacán     1      3   11     -   \n",
       "21                                            Morelos     3      -    4     3   \n",
       "22                                            Nayarit     5      3    5     -   \n",
       "23                                         Nuevo León     -      -    -     -   \n",
       "24                                             Oaxaca    33     35   52     5   \n",
       "25                                             Puebla     2      1    1     -   \n",
       "26                                          Querétaro     -      -    -     -   \n",
       "27                                       Quintana Roo     -      1    3     -   \n",
       "28                                    San Luis Potosí     -      1    1     -   \n",
       "29                                            Sinaloa    48     96  103     3   \n",
       "30                                             Sonora     6     11   14     1   \n",
       "31                                            Tabasco    40     36   33     -   \n",
       "32                                         Tamaulipas    30     15   25     -   \n",
       "33                                           Tlaxcala     -      -    -     -   \n",
       "34                                           Veracruz    43     21   34     -   \n",
       "35                                            Yucatán     3      4    3     -   \n",
       "36                                          Zacatecas     5     10    6     -   \n",
       "37                                              TOTAL   347    367  439    18   \n",
       "38  FUENTE: SINAVE/DGE/Salud 2014. Información pre...                           \n",
       "\n",
       "      5      6  7   8     9     10     11 12  13     14  \n",
       "0                                                        \n",
       "1   2014                      2014                 2013  \n",
       "2         Acum.                     Acum.                \n",
       "3                       Sem.                      Acum.  \n",
       "4      M         F               M         F             \n",
       "5             -      -     -            -      -      -  \n",
       "6             -      -     -            -      -      -  \n",
       "7             -      -     -            -      -      -  \n",
       "8             -      -     1            1      1      -  \n",
       "9             -      -     -            1      -      -  \n",
       "10            -      -     -            -      -      2  \n",
       "11            -      1     -            -      -      -  \n",
       "12            -      -     -            -      -      -  \n",
       "13            1      -     -            3      6      -  \n",
       "14            -      -     -            1      1      -  \n",
       "15            -      -     -            -      -      -  \n",
       "16            -      -     -            -      -      -  \n",
       "17            -      1     1            5      1      6  \n",
       "18            2      4     -            -      -      -  \n",
       "19            2      4     -            1      1      -  \n",
       "20            -      -     -            -      -      -  \n",
       "21            1      3     1            2      -      -  \n",
       "22            -      -     3            -      3      -  \n",
       "23            1      -     -            -      -      4  \n",
       "24            3      8     -            -      -      -  \n",
       "25            -      -     2            4      2      -  \n",
       "26            -      -     1            1      3      -  \n",
       "27            -      -     -            -      -      -  \n",
       "28            -      -     -            -      -      5  \n",
       "29            -      3     -            -      -      -  \n",
       "30            1      1     -            -      -      -  \n",
       "31            -      -     -            -      -      4  \n",
       "32            -      -     -            -      -      -  \n",
       "33            -      -     -            1      -      -  \n",
       "34            -      -     -            -      -      -  \n",
       "35            -      -     -            1      1      -  \n",
       "36            -      -     -            -      -      -  \n",
       "37           11     25     9           21     19     21  \n",
       "38                                                       "
      ]
     },
     "execution_count": 46,
     "metadata": {},
     "output_type": "execute_result"
    }
   ],
   "source": [
    "# dfx"
   ]
  }
 ],
 "metadata": {
  "kernelspec": {
   "display_name": "Python 3",
   "language": "python",
   "name": "python3"
  },
  "language_info": {
   "codemirror_mode": {
    "name": "ipython",
    "version": 3
   },
   "file_extension": ".py",
   "mimetype": "text/x-python",
   "name": "python",
   "nbconvert_exporter": "python",
   "pygments_lexer": "ipython3",
   "version": "3.8.10"
  }
 },
 "nbformat": 4,
 "nbformat_minor": 4
}
